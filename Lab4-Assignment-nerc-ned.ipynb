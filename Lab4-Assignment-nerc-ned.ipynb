{
 "cells": [
  {
   "cell_type": "markdown",
   "metadata": {},
   "source": [
    "# Lab4-Assignment about Named Entity Recognition, Classification and Disambiguation\n",
    "\n",
    "This notebook describes the assignment of Lab 4 of the text mining course. We assume you have succesfully completed Lab1, Lab2 and Lab3 as welll. Especially Lab2 cis important for completing this assignment.\n",
    "\n",
    "**Learning goals**\n",
    "* going from linguistic input format to representing it in a feature space\n",
    "* working with pretrained word embeddings\n",
    "* train a supervised classifier (SVM)\n",
    "* evaluate a supervised classifier (SVM)\n",
    "* perform feature ablation and gain insight into the contribution of various features\n",
    "* Learn how to evaluate an entity linking system.\n",
    "* Learn how to run two entity linking systems (AIDA and DBpedia Spotlight).\n",
    "* Learn how to interpret the system output and the evaluation results.\n",
    "* Get insight into differences between the two systems.\n",
    "* Be able to describe differences between the two methods in terms of their results.\n",
    "* Be able to propose future improvements based on the observed results.\n",
    "* Get insight into the difficulty of NED and how this depends on specific entity mentions.\n",
    "\n",
    "The assignment consists of 2 parts:\n",
    "\n",
    "* Named Entity Recornition and Classificaiton: excersizes 1 & 2\n",
    "* Named Entity Disambiguation and Linking: excersizes 3 & 4\n"
   ]
  },
  {
   "cell_type": "markdown",
   "metadata": {},
   "source": [
    "## Credits\n",
    "This notebook was originally created by [Marten Postma](https://martenpostma.github.io) and [Filip Ilievski](http://ilievski.nl) and adapted by Piek vossen"
   ]
  },
  {
   "cell_type": "markdown",
   "metadata": {},
   "source": [
    "# Named Entity Recognition and Classification\n",
    "\n",
    "Excercises 2 and 3 focus on Named Entity Recognition and Classification"
   ]
  },
  {
   "cell_type": "markdown",
   "metadata": {},
   "source": [
    "## [Points: 18] Exercise 1 (NERC): Training and evaluating an SVM using CoNLL-2003"
   ]
  },
  {
   "cell_type": "markdown",
   "metadata": {},
   "source": [
    "**[4 point] a) Load the CoNLL-2003 training data using the *ConllCorpusReader* and create for both *train.txt* and *test.txt*:**\n",
    "\n",
    "    [2 points]  -a list of dictionaries representing the features for each training instances, e..g,\n",
    "    ```\n",
    "    [\n",
    "    {'words': 'EU', 'pos': 'NNP'}, \n",
    "    {'words': 'rejects', 'pos': 'VBZ'},\n",
    "    ...\n",
    "    ]\n",
    "    ```\n",
    "\n",
    "    [2 points] -the NERC labels associated with each training instance, e.g.,\n",
    "    dictionaries, e.g.,\n",
    "    ```\n",
    "    [\n",
    "    'B-ORG', \n",
    "    'O',\n",
    "    ....\n",
    "    ]\n",
    "    ```"
   ]
  },
  {
   "cell_type": "code",
   "execution_count": 1,
   "metadata": {},
   "outputs": [],
   "source": [
    "from nltk.corpus.reader import ConllCorpusReader\n",
    "### Adapt the path to point to the nerc_datasets folder on your local machine\n",
    "train = ConllCorpusReader(r'C:\\Users\\FCH\\Desktop\\Text_mining\\text-mining-ba\\lab_sessions\\lab4\\data\\CONLL2003', 'train.txt', ['words', 'pos', 'ignore', 'chunk'])\n",
    "training_features = []\n",
    "training_gold_labels = []\n",
    "\n",
    "for token, pos, ne_label in train.iob_words():\n",
    "    a_dict = {\n",
    "       'words': token, 'pos': pos\n",
    "    }\n",
    "    training_features.append(a_dict)\n",
    "    training_gold_labels.append(ne_label)"
   ]
  },
  {
   "cell_type": "code",
   "execution_count": 2,
   "metadata": {},
   "outputs": [],
   "source": [
    "### Adapt the path to point to the NERC_datasets folder on your local machine\n",
    "test = ConllCorpusReader(r'C:\\Users\\FCH\\Desktop\\Text_mining\\text-mining-ba\\lab_sessions\\lab4\\data\\CONLL2003', 'test.txt', ['words', 'pos', 'ignore', 'chunk'])\n",
    "\n",
    "test_features = []\n",
    "test_gold_labels = []\n",
    "for token, pos, ne_label in test.iob_words():\n",
    "    a_dict = {\n",
    "        'words': token, 'pos': pos\n",
    "    }\n",
    "    test_features.append(a_dict)\n",
    "    test_gold_labels.append(ne_label)"
   ]
  },
  {
   "cell_type": "markdown",
   "metadata": {},
   "source": [
    "**[2 points] b) provide descriptive statistics about the training and test data:**\n",
    "* How many instances are in train and test?\n",
    "* Provide a frequency distribution of the NERC labels, i.e., how many times does each NERC label occur?\n",
    "* Discuss to what extent the training and test data is balanced (equal amount of instances for each NERC label) and to what extent the training and test data differ?\n",
    "\n",
    "Tip: you can use the following `Counter` functionality to generate frequency list of a list:"
   ]
  },
  {
   "cell_type": "code",
   "execution_count": 3,
   "metadata": {},
   "outputs": [
    {
     "name": "stdout",
     "output_type": "stream",
     "text": [
      "Items in train set: 203621   Percentage: 0.8143015964423969\n",
      "Items in test set: 46435   Percentage: 0.1856984035576031\n",
      "Ratio Train/Test: 4.385075912565952 \n",
      "\n",
      "B-ORG\n",
      "Training: 6321 \t\t\tPercentage: 0.03104296708099852\n",
      "Test: 1661 \t\t\tPercentage: 0.03577043178636804\n",
      "ratio Training/Test: 3.805538832028898 \n",
      "\n",
      "O\n",
      "Training: 169578 \t\t\tPercentage: 0.832811939829389\n",
      "Test: 38323 \t\t\tPercentage: 0.8253041886508022\n",
      "ratio Training/Test: 4.424966730162044 \n",
      "\n",
      "B-MISC\n",
      "Training: 3438 \t\t\tPercentage: 0.016884309575142052\n",
      "Test: 702 \t\t\tPercentage: 0.015117906751372886\n",
      "ratio Training/Test: 4.897435897435898 \n",
      "\n",
      "B-PER\n",
      "Training: 6600 \t\t\tPercentage: 0.0324131597428556\n",
      "Test: 1617 \t\t\tPercentage: 0.03482287067944438\n",
      "ratio Training/Test: 4.081632653061225 \n",
      "\n",
      "I-PER\n",
      "Training: 4528 \t\t\tPercentage: 0.022237392017522752\n",
      "Test: 1156 \t\t\tPercentage: 0.0248950145364488\n",
      "ratio Training/Test: 3.916955017301038 \n",
      "\n",
      "B-LOC\n",
      "Training: 7140 \t\t\tPercentage: 0.03506514553999833\n",
      "Test: 1668 \t\t\tPercentage: 0.03592118014428771\n",
      "ratio Training/Test: 4.280575539568345 \n",
      "\n",
      "I-ORG\n",
      "Training: 3704 \t\t\tPercentage: 0.018190658134475325\n",
      "Test: 835 \t\t\tPercentage: 0.017982125551846667\n",
      "ratio Training/Test: 4.435928143712575 \n",
      "\n",
      "I-MISC\n",
      "Training: 1155 \t\t\tPercentage: 0.00567230295499973\n",
      "Test: 216 \t\t\tPercentage: 0.004651663615807042\n",
      "ratio Training/Test: 5.347222222222222 \n",
      "\n",
      "I-LOC\n",
      "Training: 1157 \t\t\tPercentage: 0.005682125124618777\n",
      "Test: 257 \t\t\tPercentage: 0.005534618283622268\n",
      "ratio Training/Test: 4.501945525291829 \n",
      "\n",
      "TRAIN DISTRIBUTION\n"
     ]
    },
    {
     "data": {
      "image/png": "[encoded data removed]",
      "text/plain": [
       "<Figure size 432x288 with 1 Axes>"
      ]
     },
     "metadata": {
      "needs_background": "light"
     },
     "output_type": "display_data"
    },
    {
     "name": "stdout",
     "output_type": "stream",
     "text": [
      "TEST DISTRIBUTION\n"
     ]
    },
    {
     "data": {
      "image/png": "[encoded data removed]",
      "text/plain": [
       "<Figure size 432x288 with 1 Axes>"
      ]
     },
     "metadata": {
      "needs_background": "light"
     },
     "output_type": "display_data"
    }
   ],
   "source": [
    "from collections import Counter \n",
    "import numpy as np\n",
    "import matplotlib.pyplot as plt\n",
    "\n",
    "train_size = len(training_features)\n",
    "test_size = len(test_features)\n",
    "\n",
    "print('Items in train set:', train_size, '  Percentage:', train_size/(train_size + test_size))\n",
    "print('Items in test set:', test_size, '  Percentage:', test_size/(train_size + test_size))\n",
    "print('Ratio Train/Test:', train_size/test_size, '\\n')\n",
    "\n",
    "count_train = Counter(training_gold_labels)\n",
    "count_test  = Counter(test_gold_labels)\n",
    "\n",
    "for i in count_train.keys():\n",
    "    print(i)\n",
    "    print('Training:', count_train[i], '\\t\\t\\tPercentage:', count_train[i]/train_size)\n",
    "    print('Test:', count_test[i], '\\t\\t\\tPercentage:', count_test[i]/test_size)\n",
    "    print('ratio Training/Test:', count_train[i]/count_test[i], '\\n')\n",
    "\n",
    "\n",
    "def print_counter(counter):\n",
    "    labels, values = zip(*counter.items())\n",
    "\n",
    "    indexes = np.arange(len(labels))\n",
    "    width = 1\n",
    "\n",
    "    plt.bar(indexes, values, width)\n",
    "    plt.xticks(indexes , labels)\n",
    "    plt.show()\n",
    "    \n",
    "\n",
    "print('TRAIN DISTRIBUTION')\n",
    "print_counter(count_train)\n",
    "print('TEST DISTRIBUTION')\n",
    "print_counter(count_test)"
   ]
  },
  {
   "cell_type": "markdown",
   "metadata": {},
   "source": [
    "- We have a train-test split of 81,4% against 18,6%.\n",
    "- There is a big class imbalance in the data, where the 'O' category is overpopulated. The other classes are equally balanced\n",
    "- The test and train set both have a large overpopulation of the 'O' category while the other categories have similar proportions with some negligible differences. Normally this would be reduced by using a stratified split.\n",
    "\n"
   ]
  },
  {
   "cell_type": "markdown",
   "metadata": {},
   "source": [
    "**[2 points] c) Concatenate the train and test features (the list of dictionaries) into one list. Load it using the *DictVectorizer*. Afterwards, split it back to training and test.**\n"
   ]
  },
  {
   "cell_type": "code",
   "execution_count": 4,
   "metadata": {},
   "outputs": [],
   "source": [
    "from sklearn.feature_extraction import DictVectorizer"
   ]
  },
  {
   "cell_type": "code",
   "execution_count": 5,
   "metadata": {},
   "outputs": [],
   "source": [
    "vec = DictVectorizer()\n",
    "the_array = vec.fit_transform(training_features + test_features)\n",
    "\n",
    "training_ = the_array[:len(training_features)]\n",
    "test_ = the_array[len(training_features):]"
   ]
  },
  {
   "cell_type": "markdown",
   "metadata": {},
   "source": [
    "**[4 points] d) Train the SVM using the train features and labels and evaluate on the test data. Provide a classification report (sklearn.metrics.classification_report).**\n",
    "The train (*lin_clf.fit*) might take a while. On my computer, it took 1min 53s, which is acceptable. Training models normally takes much longer. If it takes more than 5 minutes, you can use a subset for training. Describe the results:\n",
    "* Which NERC labels does the classifier perform well on? Why do you think this is the case?\n",
    "* Which NERC labels does the classifier perform poorly on? Why do you think this is the case?"
   ]
  },
  {
   "cell_type": "code",
   "execution_count": 6,
   "metadata": {},
   "outputs": [],
   "source": [
    "from sklearn import svm\n",
    "from sklearn.metrics import classification_report"
   ]
  },
  {
   "cell_type": "code",
   "execution_count": 7,
   "metadata": {},
   "outputs": [
    {
     "name": "stdout",
     "output_type": "stream",
     "text": [
      "              precision    recall  f1-score   support\n",
      "\n",
      "       B-LOC       0.81      0.78      0.79      1668\n",
      "      B-MISC       0.78      0.66      0.72       702\n",
      "       B-ORG       0.79      0.52      0.63      1661\n",
      "       B-PER       0.86      0.44      0.58      1617\n",
      "       I-LOC       0.62      0.53      0.57       257\n",
      "      I-MISC       0.57      0.59      0.58       216\n",
      "       I-ORG       0.70      0.47      0.56       835\n",
      "       I-PER       0.33      0.87      0.48      1156\n",
      "           O       0.98      0.98      0.98     38323\n",
      "\n",
      "    accuracy                           0.92     46435\n",
      "   macro avg       0.72      0.65      0.65     46435\n",
      "weighted avg       0.94      0.92      0.92     46435\n",
      "\n"
     ]
    }
   ],
   "source": [
    "lin_clf = svm.LinearSVC()\n",
    "##### [ YOUR CODE SHOULD GO HERE ]\n",
    "lin_clf.fit(training_, training_gold_labels)\n",
    "print(classification_report(test_gold_labels, lin_clf.predict(test_)))"
   ]
  },
  {
   "cell_type": "markdown",
   "metadata": {},
   "source": [
    "- By considering the f1-score, the class that has the best performance is O. We believe this result can be explained by the following reason: The O label has the best performance of all because it is the most abundant and contain every part of text that cannot be related to an entity (such as verbs, adjectives, pronouns, etc.). Those factors make so that for the O class there are more data for learning and that the machine learning algorithm can easily learn to correlate the use of a POS tag not related to an entity to the O label.\n",
    "- The worst label for our classifier is I-per, considering the f1-score. Considering that the algorithm does not have any information about ordering of the tokens in the sequence, it may be confusing the B-per and I-per labels. The beggining and inside of a persons name may have the same vector representation and the only way to desambiguate between the two options is by considering the ordering of the tokens. Take for example the names Jonatan Smith and Smith Jonatan. "
   ]
  },
  {
   "cell_type": "markdown",
   "metadata": {},
   "source": [
    "**[6 points] e) Train a model that uses the embeddings of these words as inputs. Test again on the same data as in 2d. Generate a classification report and compare the results with the classifier you built in 2d.**"
   ]
  },
  {
   "cell_type": "code",
   "execution_count": 8,
   "metadata": {},
   "outputs": [],
   "source": [
    "import gensim\n",
    "word_embedding_model = gensim.models.KeyedVectors.load_word2vec_format(r'C:\\Users\\FCH\\Desktop\\Text_mining\\text-mining-ba\\lab_sessions\\GoogleNews-vectors-negative300.bin.gz', binary=True)"
   ]
  },
  {
   "cell_type": "code",
   "execution_count": 9,
   "metadata": {},
   "outputs": [],
   "source": [
    "def get_w2v(word, word_embedding_model):\n",
    "    if word in word_embedding_model:\n",
    "        vector=word_embedding_model[word]\n",
    "    else: \n",
    "        vector=[0]*300\n",
    "    return vector"
   ]
  },
  {
   "cell_type": "code",
   "execution_count": 10,
   "metadata": {},
   "outputs": [],
   "source": [
    "training_features = []\n",
    "training_gold_labels = []\n",
    "test_features = []\n",
    "test_gold_labels = []\n",
    "\n",
    "for token, pos, ne_label in train.iob_words():\n",
    "    training_features.append(get_w2v(token, word_embedding_model))\n",
    "    training_gold_labels.append(ne_label)\n",
    "\n",
    "for token, pos, ne_label in test.iob_words():\n",
    "    test_features.append(get_w2v(token, word_embedding_model))\n",
    "    test_gold_labels.append(ne_label)"
   ]
  },
  {
   "cell_type": "code",
   "execution_count": 11,
   "metadata": {},
   "outputs": [
    {
     "name": "stdout",
     "output_type": "stream",
     "text": [
      "              precision    recall  f1-score   support\n",
      "\n",
      "       B-LOC       0.76      0.80      0.78      1668\n",
      "      B-MISC       0.72      0.70      0.71       702\n",
      "       B-ORG       0.69      0.64      0.66      1661\n",
      "       B-PER       0.75      0.67      0.71      1617\n",
      "       I-LOC       0.51      0.42      0.46       257\n",
      "      I-MISC       0.60      0.54      0.57       216\n",
      "       I-ORG       0.48      0.33      0.39       835\n",
      "       I-PER       0.59      0.50      0.54      1156\n",
      "           O       0.97      0.99      0.98     38323\n",
      "\n",
      "    accuracy                           0.93     46435\n",
      "   macro avg       0.68      0.62      0.64     46435\n",
      "weighted avg       0.92      0.93      0.92     46435\n",
      "\n"
     ]
    }
   ],
   "source": [
    "lin_clf = svm.LinearSVC()\n",
    "##### [ YOUR CODE SHOULD GO HERE ]\n",
    "lin_clf.fit(training_features, training_gold_labels)\n",
    "print(classification_report(test_gold_labels, lin_clf.predict(test_features)))"
   ]
  },
  {
   "cell_type": "markdown",
   "metadata": {},
   "source": [
    "The results of using embeddings are pretty similar to the ones from the last experiment, the only notable differences are that the f1-score for classification of B-PER is higher for the embedding model, and the f1-scores of I-Loc and I-org are lower for the embedding model. "
   ]
  },
  {
   "cell_type": "markdown",
   "metadata": {},
   "source": [
    "## [Points: 10] Exercise 2 (NERC): feature inspection using the [Annotated Corpus for Named Entity Recognition](https://www.kaggle.com/abhinavwalia95/entity-annotated-corpus)\n",
    "**[6 points] a. Perform the same steps as in the previous exercise. Make sure you end up for both the training part (*df_train*) and the test part (*df_test*) with:**\n",
    "* the features representation using **DictVectorizer**\n",
    "* the NERC labels in a list\n",
    "\n",
    "Please note that this is the same setup as in the previous exercise:\n",
    "* load both train and test using:\n",
    "    * list of dictionaries for features\n",
    "    * list of NERC labels\n",
    "* combine train and test features in a list and represent them using one hot encoding\n",
    "* train using the training features and NERC labels"
   ]
  },
  {
   "cell_type": "code",
   "execution_count": 12,
   "metadata": {},
   "outputs": [],
   "source": [
    "import pandas"
   ]
  },
  {
   "cell_type": "code",
   "execution_count": 13,
   "metadata": {},
   "outputs": [
    {
     "name": "stderr",
     "output_type": "stream",
     "text": [
      "b'Skipping line 281837: expected 25 fields, saw 34\\n'\n"
     ]
    }
   ],
   "source": [
    "##### Adapt the path to point to your local copy of NERC_datasets\n",
    "path = r'C:\\Users\\FCH\\Desktop\\Text_mining\\text-mining-ba\\lab_sessions\\lab4\\data\\nerc_datasets\\kaggle\\ner_v2.csv'\n",
    "kaggle_dataset = pandas.read_csv(path, error_bad_lines=False)"
   ]
  },
  {
   "cell_type": "code",
   "execution_count": 14,
   "metadata": {},
   "outputs": [
    {
     "data": {
      "text/plain": [
       "1050795"
      ]
     },
     "execution_count": 14,
     "metadata": {},
     "output_type": "execute_result"
    }
   ],
   "source": [
    "len(kaggle_dataset)"
   ]
  },
  {
   "cell_type": "code",
   "execution_count": 15,
   "metadata": {},
   "outputs": [
    {
     "name": "stdout",
     "output_type": "stream",
     "text": [
      "100000 20000\n"
     ]
    }
   ],
   "source": [
    "df_train = kaggle_dataset[:100000]\n",
    "df_test = kaggle_dataset[100000:120000]\n",
    "print(len(df_train), len(df_test))"
   ]
  },
  {
   "cell_type": "code",
   "execution_count": 16,
   "metadata": {},
   "outputs": [],
   "source": [
    "def train_test(remove, df_train=df_train, df_test=df_test, training_labels = df_train['tag'], test_labels = df_test['tag']):\n",
    "    training_features = []\n",
    "    test_features = []\n",
    "    to_drop = ['id', 'sentence_idx', 'tag'] + remove\n",
    "    \n",
    "    training_labels = df_train['tag']\n",
    "    test_labels = df_test['tag']   \n",
    "    \n",
    "    df_train = df_train.drop(columns=to_drop)\n",
    "    df_test = df_test.drop(columns=to_drop)\n",
    "\n",
    "    for index, row in df_train.iterrows():\n",
    "        item = row.to_dict()\n",
    "        training_features.append(item)\n",
    "\n",
    "    for index, row in df_test.iterrows():\n",
    "        item = row.to_dict()\n",
    "        test_features.append(item)\n",
    "\n",
    "    vec = DictVectorizer()\n",
    "    the_array = vec.fit_transform(training_features + test_features)\n",
    "\n",
    "    training = the_array[:len(training_features)]\n",
    "    test = the_array[len(training_features):]\n",
    "    \n",
    "    return training, test, training_labels, test_labels"
   ]
  },
  {
   "cell_type": "markdown",
   "metadata": {},
   "source": [
    "**[4 points] b. Train and evaluate the model and provide the classification report:**\n",
    "* use the SVM to predict NERC labels on the test data\n",
    "* evaluate the performance of the SVM on the test data\n",
    "\n",
    "Analyze the performance per NERC label."
   ]
  },
  {
   "cell_type": "code",
   "execution_count": 17,
   "metadata": {},
   "outputs": [
    {
     "name": "stderr",
     "output_type": "stream",
     "text": [
      "C:\\Users\\FCH\\.conda\\envs\\tm\\lib\\site-packages\\sklearn\\metrics\\_classification.py:1272: UndefinedMetricWarning: Recall and F-score are ill-defined and being set to 0.0 in labels with no true samples. Use `zero_division` parameter to control this behavior.\n",
      "  _warn_prf(average, modifier, msg_start, len(result))\n"
     ]
    },
    {
     "name": "stdout",
     "output_type": "stream",
     "text": [
      "              precision    recall  f1-score   support\n",
      "\n",
      "       B-art       0.00      0.00      0.00         4\n",
      "       B-eve       0.00      0.00      0.00         0\n",
      "       B-geo       0.87      0.84      0.85       741\n",
      "       B-gpe       0.87      0.94      0.90       296\n",
      "       B-nat       0.80      0.50      0.62         8\n",
      "       B-org       0.73      0.66      0.70       397\n",
      "       B-per       0.81      0.81      0.81       333\n",
      "       B-tim       0.93      0.84      0.88       393\n",
      "       I-geo       0.97      0.96      0.97       156\n",
      "       I-gpe       0.67      1.00      0.80         2\n",
      "       I-nat       1.00      1.00      1.00         4\n",
      "       I-org       0.95      0.93      0.94       321\n",
      "       I-per       0.95      0.98      0.96       319\n",
      "       I-tim       0.98      0.87      0.92       108\n",
      "           O       0.99      0.99      0.99     16918\n",
      "\n",
      "    accuracy                           0.97     20000\n",
      "   macro avg       0.77      0.76      0.76     20000\n",
      "weighted avg       0.97      0.97      0.97     20000\n",
      "\n"
     ]
    }
   ],
   "source": [
    "train, test, train_labels, test_labels = train_test([])\n",
    "lin_clf = svm.LinearSVC()\n",
    "##### [ YOUR CODE SHOULD GO HERE ]\n",
    "lin_clf.fit(train, train_labels)\n",
    "print(classification_report(test_labels, lin_clf.predict(test)))"
   ]
  },
  {
   "cell_type": "markdown",
   "metadata": {},
   "source": [
    "In general the results show a high recall and precision value for all the classification labels. Furthermore, the weighted average is also high (0.97). The main source of errors of the model are the minority classes, which have had fewer training instances and therefore have the lowest accuracy."
   ]
  },
  {
   "cell_type": "markdown",
   "metadata": {},
   "source": [
    "# Entity Linking\n",
    "\n",
    "Excersizes 3 and 4 focus on Entity linking"
   ]
  },
  {
   "cell_type": "markdown",
   "metadata": {},
   "source": [
    "### Excersize 3 (NEL): Quantitative analysis  [Points: 15] \n",
    "\n",
    "In this assignment, you are going to work with two systems for entity linking: AIDA and DBpedia Spotlight. You will run them on an entity linking dataset and evaluate their performance. You will perform both quantitative and qualitative analysis of their output, and run one of these systems on your own text. We will reflect on the results of these tasks.\n",
    "\n",
    "**Note:** We will use the dataset Reuters-128 in this assignment. This dataset was introduced in the notebook 'Lab4.3-Entity-linking-tools', so you probably have it already (in case you do not have it make sure you download it from Canvas first and put it in the same location as this notebook). \n"
   ]
  },
  {
   "cell_type": "markdown",
   "metadata": {},
   "source": [
    "**Exercise 1a** Write code that runs both systems on the full Reuters-128 dataset. (5 points)"
   ]
  },
  {
   "cell_type": "code",
   "execution_count": 18,
   "metadata": {},
   "outputs": [],
   "source": [
    "from rdflib import Graph, URIRef\n",
    "from tqdm import tqdm ## to create progress bar to measure progress\n",
    "import sys\n",
    "import requests\n",
    "import urllib\n",
    "import urllib.parse\n",
    "from urllib.request import urlopen, Request\n",
    "from urllib.parse import urlencode\n",
    "import xml.etree.cElementTree as ET\n",
    "from lxml import etree\n",
    "import time\n",
    "import json\n",
    "# import time\n",
    "# import our own utility functions and classes\n",
    "import lab4_utils as utils\n",
    "import lab4_classes as classes"
   ]
  },
  {
   "cell_type": "code",
   "execution_count": 19,
   "metadata": {},
   "outputs": [],
   "source": [
    "import ssl\n",
    "context = ssl._create_unverified_context()"
   ]
  },
  {
   "cell_type": "code",
   "execution_count": 20,
   "metadata": {},
   "outputs": [],
   "source": [
    "# Run both systems on the full Reuters-128 dataset\n",
    "def aida_disambiguation(articles, aida_url):\n",
    "    \"\"\"\n",
    "    Perform disambiguation with AIDA.\n",
    "    \"\"\"\n",
    "    with tqdm(total=len(articles), file=sys.stdout) as pbar:  \n",
    "        for i, article in enumerate(articles):\n",
    "            \n",
    "            original_content = article.content\n",
    "            new_content=original_content\n",
    "            for entity in reversed(article.entity_mentions):\n",
    "                entity_span=new_content[entity.begin_index: entity.end_index]\n",
    "                new_content=new_content[:entity.begin_index] + '[[' + entity_span + ']]' + new_content[entity.end_index:]\n",
    "\n",
    "            params={\"text\": new_content, \"tag_mode\": 'manual'}\n",
    "            request = Request(aida_url, urlencode(params).encode())\n",
    "            this_json = urlopen(request, context = context).read().decode('unicode-escape')\n",
    "            try:\n",
    "                results=json.loads(this_json)\n",
    "            except:\n",
    "                continue\n",
    "\n",
    "            dis_entities={}\n",
    "            for dis_entity in results['mentions']:\n",
    "\n",
    "                if 'bestEntity' in dis_entity.keys():\n",
    "                    best_entity = dis_entity['bestEntity']['kbIdentifier']\n",
    "                    clean_url = best_entity[5:] #SKIP YAGO:\n",
    "                else:\n",
    "                    clean_url = 'NIL'\n",
    "                dis_entities[str(dis_entity['offset'])] = clean_url \n",
    "            \n",
    "            for entity in article.entity_mentions:\n",
    "                start = entity.begin_index\n",
    "                try:\n",
    "                    dis_url = str(dis_entities[str(start)])  \n",
    "                except:\n",
    "                    dis_url = 'NIL'\n",
    "                entity.aida_link = dis_url\n",
    "\n",
    "            pbar.set_description('processed: %d' % (1 + i))\n",
    "            pbar.update(1)\n",
    "    return articles\n",
    "\n",
    "def spotlight_disambiguate(articles, spotlight_url):\n",
    "    \"\"\"\n",
    "    Perform disambiguation with DBpedia Spotlight.\n",
    "    \"\"\"\n",
    "    with tqdm(total=len(articles), file=sys.stdout) as pbar:\n",
    "        for i, article in enumerate(articles):\n",
    "            # Similar as with AIDA, we first prepare the document text and the mentions\n",
    "            # in order to provide these to Spotlight as input.\n",
    "            \n",
    "            # We build up the XML structure that Spotligh wants as input\n",
    "            # The next function Element creates the XML element with the text attribute\n",
    "            annotation = etree.Element(\"annotation\", text=article.content)\n",
    "            \n",
    "            # We iterate over the eneity mentions from our Reuters data to create the surface form elements\n",
    "            for mention in article.entity_mentions:\n",
    "                sf = etree.SubElement(annotation, \"surfaceForm\")\n",
    "                sf.set(\"name\", mention.mention)\n",
    "                sf.set(\"offset\", str(mention.begin_index))\n",
    "            my_xml=etree.tostring(annotation, xml_declaration=True, encoding='UTF-8')\n",
    "            # Send a disambiguation request to spotlight\n",
    "            results=requests.post(spotlight_url, urllib.parse.urlencode({'text':my_xml, 'confidence': 0.5}), \n",
    "                                  headers={'Accept': 'application/json'})\n",
    "            # Note that you can adjust the confidence value. Check the online demo to see the effect. \n",
    "            # What will happen with the recall and precision if you increase the confidence?\n",
    "            \n",
    "            # Process the results and normalize the entity URIs\n",
    "            \n",
    "            if not results:\n",
    "                continue\n",
    "            \n",
    "            j=results.json()\n",
    "            dis_entities={}\n",
    "            if 'Resources' in j: \n",
    "                resources=j['Resources']\n",
    "            else: \n",
    "                resources=[]\n",
    "            for dis_entity in resources:\n",
    "                dis_entities[str(dis_entity['@offset'])] = utils.normalizeURL(dis_entity['@URI'])\n",
    "            \n",
    "            # Let's now store the URLs by Spotlight to our class for later analysis.\n",
    "            for entity in article.entity_mentions:\n",
    "                start = entity.begin_index\n",
    "                if str(start) in dis_entities:\n",
    "                    dis_url = dis_entities[str(start)]\n",
    "                else:\n",
    "                    dis_url = 'NIL'\n",
    "                entity.spotlight_link = dis_url\n",
    "    \n",
    "            # The next two lines only update the progress bar\n",
    "            pbar.set_description('processed: %d' % (1 + i))\n",
    "            pbar.update(1)\n",
    "                \n",
    "            # Pause for 100ms to prevent overloading the server\n",
    "            time.sleep(0.1)\n",
    "    return articles"
   ]
  },
  {
   "cell_type": "code",
   "execution_count": 21,
   "metadata": {},
   "outputs": [
    {
     "name": "stdout",
     "output_type": "stream",
     "text": [
      "processed: 1:   1%|▌                                                                   | 1/128 [00:04<08:36,  4.06s/it]"
     ]
    },
    {
     "name": "stderr",
     "output_type": "stream",
     "text": [
      "C:\\Users\\FCH\\.conda\\envs\\tm\\lib\\site-packages\\ipykernel_launcher.py:17: DeprecationWarning: invalid escape sequence '\\/'\n"
     ]
    },
    {
     "name": "stdout",
     "output_type": "stream",
     "text": [
      "processed: 128:  96%|█████████████████████████████████████████████████████████████▌  | 123/128 [03:26<00:08,  1.68s/it]\n"
     ]
    }
   ],
   "source": [
    "reuters_file = 'Reuters-128.ttl'\n",
    "aida_disambiguation_url = \"https://gate.d5.mpi-inf.mpg.de/aida/service/disambiguate\"\n",
    "spotlight_disambiguation_url = \"http://model.dbpedia-spotlight.org/en/disambiguate\"\n",
    "\n",
    "articles = utils.load_article_from_nif_file(reuters_file)\n",
    "processed_aida = aida_disambiguation(articles, aida_disambiguation_url)"
   ]
  },
  {
   "cell_type": "code",
   "execution_count": 34,
   "metadata": {},
   "outputs": [
    {
     "name": "stdout",
     "output_type": "stream",
     "text": [
      "processed: 64:  47%|██████████████████████████████▉                                   | 60/128 [01:22<01:33,  1.38s/it]\n"
     ]
    }
   ],
   "source": [
    "processed_spotlight =spotlight_disambiguate(processed_aida, spotlight_disambiguation_url)"
   ]
  },
  {
   "cell_type": "markdown",
   "metadata": {},
   "source": [
    "**Exercise 1b** Write code that evaluates the two systems on this dataset by computing their overall precision, recall, and F1-score. (5 points)"
   ]
  },
  {
   "cell_type": "code",
   "execution_count": 43,
   "metadata": {},
   "outputs": [],
   "source": [
    "# Write a function to compute the precision, recall, and F1-score for each of the systems on this dataset\n",
    "\n",
    "def evaluate_entity_linking(system_decisions, gold_decisions):\n",
    "    \n",
    "    tp, fp, fn = 0, 0, 0\n",
    "    \n",
    "    for gold_entity,system_entity in zip(gold_decisions,system_decisions):\n",
    "        if gold_entity=='NIL' and system_entity=='NIL': continue\n",
    "        if gold_entity==system_entity:\n",
    "            tp+=1\n",
    "        else:\n",
    "            if gold_entity!='NIL':\n",
    "                fn+=1\n",
    "            if system_entity!='NIL':\n",
    "                fp+=1\n",
    "\n",
    "#     print('TP: %d; \\nFP: %d, \\nFN: %d' % (tp, fp, fn))            \n",
    "\n",
    "    precision=tp/(tp+fp)\n",
    "    recall=tp/(tp+fn)\n",
    "    f1=2*precision*recall/(precision+recall)\n",
    "    \n",
    "    return precision, recall, f1\n"
   ]
  },
  {
   "cell_type": "code",
   "execution_count": 55,
   "metadata": {},
   "outputs": [
    {
     "name": "stdout",
     "output_type": "stream",
     "text": [
      "AIDA System:\n",
      "Precision: 0.61875  Recall: 0.45692307692307693  F1: 0.5256637168141594\n",
      "Spotlight System:\n",
      "Precision: 0.61875  Recall: 0.45692307692307693  F1: 0.5256637168141594\n"
     ]
    }
   ],
   "source": [
    "decisions_aida = []\n",
    "gold_aida = []\n",
    "for article in processed_aida:\n",
    "    decisions_aida += [entity.aida_link for entity in article.entity_mentions]\n",
    "    gold_aida += [entity.gold_link for entity in article.entity_mentions]\n",
    "\n",
    "decisions_spotlight = []\n",
    "gold_spotlight = []\n",
    "for article in processed_spotlight:\n",
    "    decisions_spotlight += [entity.spotlight_link for entity in article.entity_mentions]\n",
    "    gold_spotlight += [entity.gold_link for entity in article.entity_mentions]\n",
    "    \n",
    "precision_a, recall_a, f1_a = evaluate_entity_linking(decisions_aida, gold_aida)\n",
    "print('AIDA System:\\nPrecision:', precision_a, ' Recall:', recall_a, ' F1:', f1_a)\n",
    "precision_s, recall_s, f1_s = evaluate_entity_linking(decisions_aida, gold_spotlight)\n",
    "print('Spotlight System:\\nPrecision:', precision_s, ' Recall:', recall_s, ' F1:', f1_s)"
   ]
  },
  {
   "cell_type": "code",
   "execution_count": 40,
   "metadata": {},
   "outputs": [
    {
     "data": {
      "text/plain": [
       "<lab4_classes.EntityMention at 0x26806caadc8>"
      ]
     },
     "execution_count": 40,
     "metadata": {},
     "output_type": "execute_result"
    }
   ],
   "source": [
    "processed_spotlight[0].entity_mentions[1]"
   ]
  },
  {
   "cell_type": "markdown",
   "metadata": {},
   "source": [
    "**Question 1c** What is the F1-score per system? Which system performs better? Is that also the better system in terms of precision and recall? Which is higher and what does that mean (hint: think of NIL entities)?(5 points)"
   ]
  },
  {
   "cell_type": "markdown",
   "metadata": {},
   "source": [
    "According to our results, both systems have the same performance"
   ]
  },
  {
   "cell_type": "markdown",
   "metadata": {},
   "source": [
    "### Excersize 4 (NEL): Qualitative analysis [Points: 15] "
   ]
  },
  {
   "cell_type": "markdown",
   "metadata": {},
   "source": [
    "**Exercise 2a** Check the entity disambiguation by AIDA against the gold entities on the document with identifier \"http://aksw.org/N3/Reuters-128/82#char=0,1370\" (write code to print the entity mentions, gold links and AIDA links). (2 points)"
   ]
  },
  {
   "cell_type": "code",
   "execution_count": 45,
   "metadata": {},
   "outputs": [],
   "source": [
    "correct_article = [article for article in articles if article.identifier == 'http://aksw.org/N3/Reuters-128/82#char=0,1370'][0]"
   ]
  },
  {
   "cell_type": "code",
   "execution_count": 54,
   "metadata": {},
   "outputs": [
    {
     "name": "stdout",
     "output_type": "stream",
     "text": [
      "ENTITY GOLD : Reuters , ENTITY AIDA : Reuters_Group\n",
      "ENTITY GOLD : NIL , ENTITY AIDA : NIL\n",
      "ENTITY GOLD : Tokyo_Stock_Exchange , ENTITY AIDA : Tokyo\n",
      "ENTITY GOLD : London_Stock_Exchange , ENTITY AIDA : NIL\n",
      "ENTITY GOLD : NIL , ENTITY AIDA : Edward_Hogg\n",
      "ENTITY GOLD : Reuters , ENTITY AIDA : Reuters\n",
      "ENTITY GOLD : London , ENTITY AIDA : London\n"
     ]
    }
   ],
   "source": [
    "for e in correct_article.entity_mentions:\n",
    "    print(\"ENTITY GOLD :\", e.gold_link,\", ENTITY AIDA :\", e.aida_link)"
   ]
  },
  {
   "cell_type": "code",
   "execution_count": 56,
   "metadata": {},
   "outputs": [
    {
     "data": {
      "text/plain": [
       "rdflib.term.Literal('Exchanges and telecommunications authorities should abolish their restrictions on full and free dissemination of information to the investment and banking communities, Reuters Holdings Plc RTRS.L chairman Sir Christopher Hogg said. In the 1986 annual repoprt, he said lengthy negotiations had brought agreement with the Tokyo and London Stock Exchanges for fuller, but still not complete, access to market data through Reuter services. Many other markets maintain restrictions, he added. Hogg said members of some markets appear to believe that information restrictions protected their interests. In other cases, exchanges seem to be limiting the distribution of data in order to provide competitive advantage to their own commercial information businesses. He also noted that despite increasing liberalisation in the telecommunications field, some countries continue to protect their state monopolies at the expense of other economic sectors. Reuter dealing services remain excluded from such countries. As a result, banking communities serving entire economies are put at a competitive disadvantage, he added. Reuters increased its 1986 pre-tax profit by 39 pct from the previous year to 130.1 mln stg on a 43 pct rise in revenues to 620.9 mln stg. Earnings per ordinary share were up 47 pct to 19.4p. The annual shareholder meeting will be held in London on April 29.', lang='en')"
      ]
     },
     "execution_count": 56,
     "metadata": {},
     "output_type": "execute_result"
    }
   ],
   "source": [
    "correct_article.content"
   ]
  },
  {
   "cell_type": "markdown",
   "metadata": {},
   "source": [
    "You can see in this document that one of the mentions of \"Tokyo\" is disambiguated wrongly by AIDA as `Tokyo` (it should be `Tokyo_Stock_Exchange`). Knowing how AIDA works, what would be your explanation for this error? (4 points)"
   ]
  },
  {
   "cell_type": "markdown",
   "metadata": {},
   "source": [
    "One possible explanation for this error is that the entities that are mentioned in the surrounding context of the word Tokyo, such as London and Reuters, are more often connected with the entity Tokyo (which means those entities have connections with higher weights). And since the AIDA algorithm ranks entities based on this connectivity weight Tokyo got predicted. "
   ]
  },
  {
   "cell_type": "markdown",
   "metadata": {},
   "source": [
    "**Exercise 2b** Check the entity disambiguation by Spotlight against the gold entities on the document \"http://aksw.org/N3/Reuters-128/36#char=0,1146\" (write code to print the entity mentions, gold links and Spotlight links). (2 points)"
   ]
  },
  {
   "cell_type": "code",
   "execution_count": 64,
   "metadata": {},
   "outputs": [],
   "source": [
    "correct_article = [article for article in articles if article.identifier == 'http://aksw.org/N3/Reuters-128/36#char=0,1146'][0]"
   ]
  },
  {
   "cell_type": "code",
   "execution_count": 65,
   "metadata": {},
   "outputs": [
    {
     "name": "stdout",
     "output_type": "stream",
     "text": [
      "entity: U.S. Treasury , SPOTLIGHT:  United_States_Department_of_the_Treasury , GL: United_States_Department_of_the_Treasury\n",
      "entity: Group of Five , SPOTLIGHT:  Group_of_Five , GL: Group_of_Five\n",
      "entity: Gerhard Stoltenberg , SPOTLIGHT:  Gerhard_Stoltenberg , GL: Gerhard_Stoltenberg\n",
      "entity: Bundesbank , SPOTLIGHT:  German_Federal_Bank , GL: Deutsche_Bundesbank\n",
      "entity: Karl Otto Poehl , SPOTLIGHT:  NIL , GL: Karl_Otto_Pöhl\n",
      "entity: Edouard Balladur , SPOTLIGHT:  Édouard_Balladur , GL: Édouard_Balladur\n",
      "entity: Jacques de Larosiere , SPOTLIGHT:  NIL , GL: Jacques_de_Larosière\n",
      "entity: Kiichi Miyazawa , SPOTLIGHT:  Kiichi_Miyazawa , GL: Kiichi_Miyazawa\n",
      "entity: Satoshi Sumita , SPOTLIGHT:  NIL , GL: Satoshi_Sumita\n",
      "entity: Robin Leigh Pemberton , SPOTLIGHT:  NIL , GL: Robin_Leigh-Pemberton,_Baron_Kingsdown\n",
      "entity: Group of Seven , SPOTLIGHT:  Group_of_Seven , GL: G7\n",
      "entity: Giovanni Goria , SPOTLIGHT:  Giovanni_Goria , GL: Giovanni_Goria\n",
      "entity: Treasury , SPOTLIGHT:  HM_Treasury , GL: United_States_Department_of_the_Treasury\n",
      "entity: James Baker , SPOTLIGHT:  James_Baker , GL: James_Baker\n",
      "entity: Baker , SPOTLIGHT:  James_Baker , GL: James_Baker\n",
      "entity: Goria , SPOTLIGHT:  Giovanni_Goria , GL: Giovanni_Goria\n",
      "entity: Group of Seven , SPOTLIGHT:  Group_of_Seven , GL: G7\n",
      "entity: Paris , SPOTLIGHT:  Paris , GL: Paris\n",
      "entity: Italy , SPOTLIGHT:  Kingdom_of_Italy , GL: Italy\n"
     ]
    }
   ],
   "source": [
    "for entity in correct_article.entity_mentions:\n",
    "    print('entity:', entity.mention ,', SPOTLIGHT: ', entity.spotlight_link, ', GL:', entity.gold_link)"
   ]
  },
  {
   "cell_type": "markdown",
   "metadata": {},
   "source": [
    "You can see in this document that the mention of \"Group of Seven\" is disambiguated wrongly by Spotlight as `G8` (it should be `G7`). Knowing how Spotlight works, what would be your explanation for this error? (4 points)"
   ]
  },
  {
   "cell_type": "markdown",
   "metadata": {},
   "source": [
    "In our results such mistake is not found. Nonetheless, one possible explanation for the error is that during the disambiguation phase, the information retrieval vector representation of G8 was closer to query vector. Indeed, the G8 and G7 groups are often discribed with similar words, since both are governamental groups with almost all the same members and political agenda"
   ]
  },
  {
   "cell_type": "markdown",
   "metadata": {},
   "source": [
    "**Question 2c** In the document with identifier \"http://aksw.org/N3/Reuters-128/67#char=0,1627\":\n",
    "- both systems correctly decide that \"Michel Dufour\" is a `NIL` entity with no representation in the English Wikipedia. \n",
    "- however, Spotlight later decides that \"Dufour\" refers to `Guillaume-Henri_Dufour`\n",
    "\n",
    "How would you help Spotlight fix this error? (Hint: think of how you would know that \"Dufour\" is a NIL entity in that document) (3 points)"
   ]
  },
  {
   "cell_type": "code",
   "execution_count": 62,
   "metadata": {},
   "outputs": [
    {
     "name": "stdout",
     "output_type": "stream",
     "text": [
      "processed: 1: 100%|██████████████████████████████████████████████████████████████████████| 1/1 [00:00<00:00,  1.22it/s]\n",
      "processed: 1: 100%|██████████████████████████████████████████████████████████████████████| 1/1 [00:00<00:00,  3.71it/s]\n",
      "entity: Dominion Textile Inc , SPOTLIGHT: NIL , AIDA: NIL , GL: Dominion_Textile\n",
      "entity: Burlington Industries Inc , SPOTLIGHT: NIL , AIDA: NIL , GL: Burlington_Industries\n",
      "entity: Michel Dufour , SPOTLIGHT: NIL , AIDA: NIL , GL: NIL\n",
      "entity: Reuters , SPOTLIGHT: Reuters , AIDA: Reuters , GL: Reuters\n",
      "entity: Dominion Textile , SPOTLIGHT: Dominion_Textile , AIDA: Dominion_Textile , GL: Dominion_Textile\n",
      "entity: Dufour , SPOTLIGHT: Guillaume-Henri_Dufour , AIDA: Antoine_Dufour , GL: NIL\n",
      "entity: Dominion Textile , SPOTLIGHT: Dominion_Textile , AIDA: Dominion_Textile , GL: Dominion_Textile\n",
      "entity: Thomas Bell , SPOTLIGHT: Thom_Bell , AIDA: Thom_Bell , GL: NIL\n",
      "entity: Dominion Textile , SPOTLIGHT: Dominion_Textile , AIDA: Dominion_Textile , GL: Dominion_Textile\n",
      "entity: Avondale Mills , SPOTLIGHT: Avondale_Mills , AIDA: NIL , GL: NIL\n",
      "entity: Dufour , SPOTLIGHT: Guillaume-Henri_Dufour , AIDA: Antoine_Dufour , GL: NIL\n",
      "entity: Burlington Industries , SPOTLIGHT: Burlington_Industries , AIDA: Burlington_Industries , GL: Burlington_Industries\n",
      "entity: Dominion Textile , SPOTLIGHT: Dominion_Textile , AIDA: Dominion_Textile , GL: Dominion_Textile\n",
      "entity: Asher Edelman , SPOTLIGHT: Asher_Edelman , AIDA: Asher_Edelman , GL: Asher_Edelman\n",
      "entity: Dominion Textile , SPOTLIGHT: Dominion_Textile , AIDA: Dominion_Textile , GL: Dominion_Textile\n"
     ]
    },
    {
     "name": "stderr",
     "output_type": "stream",
     "text": [
      "C:\\Users\\FCH\\.conda\\envs\\tm\\lib\\site-packages\\ipykernel_launcher.py:17: DeprecationWarning: invalid escape sequence '\\/'\n"
     ]
    }
   ],
   "source": [
    "correct_article = [article for article in articles if article.identifier == 'http://aksw.org/N3/Reuters-128/67#char=0,1627'][0]\n",
    "processed_both = spotlight_disambiguate([correct_article], spotlight_disambiguation_url)\n",
    "processed_aida=aida_disambiguation([correct_article], aida_disambiguation_url)\n",
    "\n",
    "for entity in processed_both[0].entity_mentions:\n",
    "    print('entity:', entity.mention ,', SPOTLIGHT:', entity.spotlight_link, ', AIDA:', entity.aida_link, ', GL:', entity.gold_link)"
   ]
  },
  {
   "cell_type": "markdown",
   "metadata": {},
   "source": [
    "By applying coreference resolution to the text, it would be possible to associate both mentions of \"Dufour\" to the same entity (NIL). "
   ]
  },
  {
   "cell_type": "markdown",
   "metadata": {},
   "source": [
    "## End of this notebook"
   ]
  }
 ],
 "metadata": {
  "kernelspec": {
   "display_name": "Python 3",
   "language": "python",
   "name": "python3"
  },
  "language_info": {
   "codemirror_mode": {
    "name": "ipython",
    "version": 3
   },
   "file_extension": ".py",
   "mimetype": "text/x-python",
   "name": "python",
   "nbconvert_exporter": "python",
   "pygments_lexer": "ipython3",
   "version": "3.7.6"
  }
 },
 "nbformat": 4,
 "nbformat_minor": 4
}
