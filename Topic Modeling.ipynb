{
 "cells": [
  {
   "cell_type": "code",
   "execution_count": 1,
   "metadata": {},
   "outputs": [],
   "source": [
    "import pandas as pd\n",
    "import matplotlib.pyplot as plt\n",
    "from scipy.spatial.distance import euclidean\n",
    "import os\n",
    "from sklearn.feature_extraction.text import CountVectorizer\n",
    "from nltk.stem.wordnet import WordNetLemmatizer\n",
    "import re\n",
    "import pandas as pd\n",
    "from nltk.corpus import stopwords\n",
    "from sklearn.feature_extraction.text import TfidfVectorizer\n",
    "import spacy\n",
    "from nltk.tokenize import word_tokenize\n",
    "from sklearn.decomposition import LatentDirichletAllocation\n",
    "import numpy as np\n",
    "from wordcloud import WordCloud\n",
    "from matplotlib import pyplot as plt"
   ]
  },
  {
   "cell_type": "code",
   "execution_count": 2,
   "metadata": {},
   "outputs": [
    {
     "data": {
      "text/html": [
       "<div>\n",
       "<style scoped>\n",
       "    .dataframe tbody tr th:only-of-type {\n",
       "        vertical-align: middle;\n",
       "    }\n",
       "\n",
       "    .dataframe tbody tr th {\n",
       "        vertical-align: top;\n",
       "    }\n",
       "\n",
       "    .dataframe thead th {\n",
       "        text-align: right;\n",
       "    }\n",
       "</style>\n",
       "<table border=\"1\" class=\"dataframe\">\n",
       "  <thead>\n",
       "    <tr style=\"text-align: right;\">\n",
       "      <th></th>\n",
       "      <th>Unnamed: 0</th>\n",
       "      <th>Unnamed: 0.1</th>\n",
       "      <th>Unnamed: 0.1.1</th>\n",
       "      <th>cast</th>\n",
       "      <th>info_json</th>\n",
       "      <th>movie_id</th>\n",
       "      <th>movie_name</th>\n",
       "      <th>summary_wiki</th>\n",
       "      <th>Thriller</th>\n",
       "      <th>Western</th>\n",
       "      <th>...</th>\n",
       "      <th>Adventure</th>\n",
       "      <th>History</th>\n",
       "      <th>Drama</th>\n",
       "      <th>Horror</th>\n",
       "      <th>Family</th>\n",
       "      <th>War</th>\n",
       "      <th>Animation</th>\n",
       "      <th>Biography</th>\n",
       "      <th>Action</th>\n",
       "      <th>Fantasy</th>\n",
       "    </tr>\n",
       "  </thead>\n",
       "  <tbody>\n",
       "    <tr>\n",
       "      <th>0</th>\n",
       "      <td>0</td>\n",
       "      <td>0</td>\n",
       "      <td>0</td>\n",
       "      <td>[{'nm0000209': [' Tim Robbins']}, {'nm0327779'...</td>\n",
       "      <td>{'Title': 'War of the Worlds', 'Year': '2005',...</td>\n",
       "      <td>War of the Worlds</td>\n",
       "      <td>War of the Worlds</td>\n",
       "      <td>Divorced longshoreman Ray Ferrier works at a d...</td>\n",
       "      <td>1</td>\n",
       "      <td>0</td>\n",
       "      <td>...</td>\n",
       "      <td>1</td>\n",
       "      <td>0</td>\n",
       "      <td>0</td>\n",
       "      <td>0</td>\n",
       "      <td>0</td>\n",
       "      <td>0</td>\n",
       "      <td>0</td>\n",
       "      <td>0</td>\n",
       "      <td>0</td>\n",
       "      <td>0</td>\n",
       "    </tr>\n",
       "    <tr>\n",
       "      <th>1</th>\n",
       "      <td>1</td>\n",
       "      <td>1</td>\n",
       "      <td>1</td>\n",
       "      <td>[{'nm0914612': [' Emma Watson']}, {'nm0341743'...</td>\n",
       "      <td>{'Title': 'Harry Potter and the Deathly Hallow...</td>\n",
       "      <td>Harry Potter and the Deathly Hallows: Part 1</td>\n",
       "      <td>Harry Potter and the Deathly Hallows: Part 1</td>\n",
       "      <td>The Minister of Magic Rufus Scrimgeour address...</td>\n",
       "      <td>0</td>\n",
       "      <td>0</td>\n",
       "      <td>...</td>\n",
       "      <td>1</td>\n",
       "      <td>0</td>\n",
       "      <td>0</td>\n",
       "      <td>0</td>\n",
       "      <td>1</td>\n",
       "      <td>0</td>\n",
       "      <td>0</td>\n",
       "      <td>0</td>\n",
       "      <td>0</td>\n",
       "      <td>1</td>\n",
       "    </tr>\n",
       "    <tr>\n",
       "      <th>2</th>\n",
       "      <td>2</td>\n",
       "      <td>2</td>\n",
       "      <td>2</td>\n",
       "      <td>[{'nm0043173': [' Rick Aviles']}, {'nm0534398'...</td>\n",
       "      <td>{'Title': 'The Stand', 'Year': '1994', 'Rated'...</td>\n",
       "      <td>The Stand</td>\n",
       "      <td>The Stand</td>\n",
       "      <td>On June 13, at a top-secret government laborat...</td>\n",
       "      <td>0</td>\n",
       "      <td>0</td>\n",
       "      <td>...</td>\n",
       "      <td>1</td>\n",
       "      <td>0</td>\n",
       "      <td>1</td>\n",
       "      <td>1</td>\n",
       "      <td>0</td>\n",
       "      <td>0</td>\n",
       "      <td>0</td>\n",
       "      <td>0</td>\n",
       "      <td>0</td>\n",
       "      <td>1</td>\n",
       "    </tr>\n",
       "    <tr>\n",
       "      <th>3</th>\n",
       "      <td>3</td>\n",
       "      <td>3</td>\n",
       "      <td>3</td>\n",
       "      <td>[{'nm0000295': [' Kate Beckinsale']}, {'nm0640...</td>\n",
       "      <td>{'Title': 'Van Helsing', 'Year': '2004', 'Rate...</td>\n",
       "      <td>Van Helsing</td>\n",
       "      <td>Van Helsing</td>\n",
       "      <td>Monster hunter Gabriel Van Helsing and friar C...</td>\n",
       "      <td>0</td>\n",
       "      <td>0</td>\n",
       "      <td>...</td>\n",
       "      <td>1</td>\n",
       "      <td>0</td>\n",
       "      <td>0</td>\n",
       "      <td>0</td>\n",
       "      <td>0</td>\n",
       "      <td>0</td>\n",
       "      <td>0</td>\n",
       "      <td>0</td>\n",
       "      <td>1</td>\n",
       "      <td>1</td>\n",
       "    </tr>\n",
       "    <tr>\n",
       "      <th>4</th>\n",
       "      <td>4</td>\n",
       "      <td>5</td>\n",
       "      <td>5</td>\n",
       "      <td>[{'nm0000349': [' Joan Cusack']}, {'nm0000885'...</td>\n",
       "      <td>{'Title': 'Toy Story 3', 'Year': '2010', 'Rate...</td>\n",
       "      <td>Toy Story 3</td>\n",
       "      <td>Toy Story 3</td>\n",
       "      <td>Andy is preparing to leave for college. He has...</td>\n",
       "      <td>0</td>\n",
       "      <td>0</td>\n",
       "      <td>...</td>\n",
       "      <td>1</td>\n",
       "      <td>0</td>\n",
       "      <td>0</td>\n",
       "      <td>0</td>\n",
       "      <td>1</td>\n",
       "      <td>0</td>\n",
       "      <td>1</td>\n",
       "      <td>0</td>\n",
       "      <td>0</td>\n",
       "      <td>1</td>\n",
       "    </tr>\n",
       "    <tr>\n",
       "      <th>...</th>\n",
       "      <td>...</td>\n",
       "      <td>...</td>\n",
       "      <td>...</td>\n",
       "      <td>...</td>\n",
       "      <td>...</td>\n",
       "      <td>...</td>\n",
       "      <td>...</td>\n",
       "      <td>...</td>\n",
       "      <td>...</td>\n",
       "      <td>...</td>\n",
       "      <td>...</td>\n",
       "      <td>...</td>\n",
       "      <td>...</td>\n",
       "      <td>...</td>\n",
       "      <td>...</td>\n",
       "      <td>...</td>\n",
       "      <td>...</td>\n",
       "      <td>...</td>\n",
       "      <td>...</td>\n",
       "      <td>...</td>\n",
       "      <td>...</td>\n",
       "    </tr>\n",
       "    <tr>\n",
       "      <th>4664</th>\n",
       "      <td>4947</td>\n",
       "      <td>5955</td>\n",
       "      <td>1833</td>\n",
       "      <td>[{'nm0528695': [' Jack Lynn']}, {'nm0377931': ...</td>\n",
       "      <td>{'Title': 'Yentl', 'Year': '1983', 'Rated': 'P...</td>\n",
       "      <td>Yentl</td>\n",
       "      <td>Yentl</td>\n",
       "      <td>Barbra Streisand portrays Yentl Mendel, a girl...</td>\n",
       "      <td>0</td>\n",
       "      <td>0</td>\n",
       "      <td>...</td>\n",
       "      <td>0</td>\n",
       "      <td>0</td>\n",
       "      <td>1</td>\n",
       "      <td>0</td>\n",
       "      <td>0</td>\n",
       "      <td>0</td>\n",
       "      <td>0</td>\n",
       "      <td>0</td>\n",
       "      <td>0</td>\n",
       "      <td>0</td>\n",
       "    </tr>\n",
       "    <tr>\n",
       "      <th>4665</th>\n",
       "      <td>4950</td>\n",
       "      <td>5958</td>\n",
       "      <td>1836</td>\n",
       "      <td>[{'nm0662116': [' Cecil Parker']}, {'nm0665327...</td>\n",
       "      <td>{'Title': 'The Court Jester', 'Year': '1955', ...</td>\n",
       "      <td>The Court Jester</td>\n",
       "      <td>The Court Jester</td>\n",
       "      <td>Set in medieval England, the plot concerns the...</td>\n",
       "      <td>0</td>\n",
       "      <td>0</td>\n",
       "      <td>...</td>\n",
       "      <td>1</td>\n",
       "      <td>0</td>\n",
       "      <td>0</td>\n",
       "      <td>0</td>\n",
       "      <td>1</td>\n",
       "      <td>0</td>\n",
       "      <td>0</td>\n",
       "      <td>0</td>\n",
       "      <td>0</td>\n",
       "      <td>0</td>\n",
       "    </tr>\n",
       "    <tr>\n",
       "      <th>4666</th>\n",
       "      <td>4951</td>\n",
       "      <td>5959</td>\n",
       "      <td>1839</td>\n",
       "      <td>[{'nm1869008': [' Anya Engel-Adams']}, {'nm000...</td>\n",
       "      <td>{'Title': 'Chi-Raq', 'Year': '2015', 'Rated': ...</td>\n",
       "      <td>Chi-Raq</td>\n",
       "      <td>Chi-Raq</td>\n",
       "      <td>In Chicago's Southside, as the events are narr...</td>\n",
       "      <td>0</td>\n",
       "      <td>0</td>\n",
       "      <td>...</td>\n",
       "      <td>0</td>\n",
       "      <td>0</td>\n",
       "      <td>1</td>\n",
       "      <td>0</td>\n",
       "      <td>0</td>\n",
       "      <td>0</td>\n",
       "      <td>0</td>\n",
       "      <td>0</td>\n",
       "      <td>0</td>\n",
       "      <td>0</td>\n",
       "    </tr>\n",
       "    <tr>\n",
       "      <th>4667</th>\n",
       "      <td>4952</td>\n",
       "      <td>5960</td>\n",
       "      <td>1840</td>\n",
       "      <td>[{'nm0082848': [' Bindu']}, {'nm2061852': [' A...</td>\n",
       "      <td>{'Title': 'Om Shanti Om', 'Year': '2007', 'Rat...</td>\n",
       "      <td>Om Shanti Om</td>\n",
       "      <td>Om Shanti Om</td>\n",
       "      <td>In 1977 , Om Prakash Makhija, a junior artist ...</td>\n",
       "      <td>1</td>\n",
       "      <td>0</td>\n",
       "      <td>...</td>\n",
       "      <td>0</td>\n",
       "      <td>0</td>\n",
       "      <td>1</td>\n",
       "      <td>0</td>\n",
       "      <td>0</td>\n",
       "      <td>0</td>\n",
       "      <td>0</td>\n",
       "      <td>0</td>\n",
       "      <td>1</td>\n",
       "      <td>0</td>\n",
       "    </tr>\n",
       "    <tr>\n",
       "      <th>4668</th>\n",
       "      <td>4954</td>\n",
       "      <td>5962</td>\n",
       "      <td>1843</td>\n",
       "      <td>[{'nm0443020': [' Christian Kay']}, {'nm001244...</td>\n",
       "      <td>{'Title': 'Blue Hawaii', 'Year': '1961', 'Rate...</td>\n",
       "      <td>Blue Hawaii</td>\n",
       "      <td>Blue Hawaii</td>\n",
       "      <td>Chadwick Gates (Elvis Presley) has just gotten...</td>\n",
       "      <td>0</td>\n",
       "      <td>0</td>\n",
       "      <td>...</td>\n",
       "      <td>0</td>\n",
       "      <td>0</td>\n",
       "      <td>0</td>\n",
       "      <td>0</td>\n",
       "      <td>0</td>\n",
       "      <td>0</td>\n",
       "      <td>0</td>\n",
       "      <td>0</td>\n",
       "      <td>0</td>\n",
       "      <td>0</td>\n",
       "    </tr>\n",
       "  </tbody>\n",
       "</table>\n",
       "<p>4669 rows × 26 columns</p>\n",
       "</div>"
      ],
      "text/plain": [
       "      Unnamed: 0  Unnamed: 0.1  Unnamed: 0.1.1  \\\n",
       "0              0             0               0   \n",
       "1              1             1               1   \n",
       "2              2             2               2   \n",
       "3              3             3               3   \n",
       "4              4             5               5   \n",
       "...          ...           ...             ...   \n",
       "4664        4947          5955            1833   \n",
       "4665        4950          5958            1836   \n",
       "4666        4951          5959            1839   \n",
       "4667        4952          5960            1840   \n",
       "4668        4954          5962            1843   \n",
       "\n",
       "                                                   cast  \\\n",
       "0     [{'nm0000209': [' Tim Robbins']}, {'nm0327779'...   \n",
       "1     [{'nm0914612': [' Emma Watson']}, {'nm0341743'...   \n",
       "2     [{'nm0043173': [' Rick Aviles']}, {'nm0534398'...   \n",
       "3     [{'nm0000295': [' Kate Beckinsale']}, {'nm0640...   \n",
       "4     [{'nm0000349': [' Joan Cusack']}, {'nm0000885'...   \n",
       "...                                                 ...   \n",
       "4664  [{'nm0528695': [' Jack Lynn']}, {'nm0377931': ...   \n",
       "4665  [{'nm0662116': [' Cecil Parker']}, {'nm0665327...   \n",
       "4666  [{'nm1869008': [' Anya Engel-Adams']}, {'nm000...   \n",
       "4667  [{'nm0082848': [' Bindu']}, {'nm2061852': [' A...   \n",
       "4668  [{'nm0443020': [' Christian Kay']}, {'nm001244...   \n",
       "\n",
       "                                              info_json  \\\n",
       "0     {'Title': 'War of the Worlds', 'Year': '2005',...   \n",
       "1     {'Title': 'Harry Potter and the Deathly Hallow...   \n",
       "2     {'Title': 'The Stand', 'Year': '1994', 'Rated'...   \n",
       "3     {'Title': 'Van Helsing', 'Year': '2004', 'Rate...   \n",
       "4     {'Title': 'Toy Story 3', 'Year': '2010', 'Rate...   \n",
       "...                                                 ...   \n",
       "4664  {'Title': 'Yentl', 'Year': '1983', 'Rated': 'P...   \n",
       "4665  {'Title': 'The Court Jester', 'Year': '1955', ...   \n",
       "4666  {'Title': 'Chi-Raq', 'Year': '2015', 'Rated': ...   \n",
       "4667  {'Title': 'Om Shanti Om', 'Year': '2007', 'Rat...   \n",
       "4668  {'Title': 'Blue Hawaii', 'Year': '1961', 'Rate...   \n",
       "\n",
       "                                          movie_id  \\\n",
       "0                                War of the Worlds   \n",
       "1     Harry Potter and the Deathly Hallows: Part 1   \n",
       "2                                        The Stand   \n",
       "3                                      Van Helsing   \n",
       "4                                      Toy Story 3   \n",
       "...                                            ...   \n",
       "4664                                         Yentl   \n",
       "4665                              The Court Jester   \n",
       "4666                                       Chi-Raq   \n",
       "4667                                  Om Shanti Om   \n",
       "4668                                   Blue Hawaii   \n",
       "\n",
       "                                        movie_name  \\\n",
       "0                                War of the Worlds   \n",
       "1     Harry Potter and the Deathly Hallows: Part 1   \n",
       "2                                        The Stand   \n",
       "3                                      Van Helsing   \n",
       "4                                      Toy Story 3   \n",
       "...                                            ...   \n",
       "4664                                         Yentl   \n",
       "4665                              The Court Jester   \n",
       "4666                                       Chi-Raq   \n",
       "4667                                  Om Shanti Om   \n",
       "4668                                   Blue Hawaii   \n",
       "\n",
       "                                           summary_wiki  Thriller  Western  \\\n",
       "0     Divorced longshoreman Ray Ferrier works at a d...         1        0   \n",
       "1     The Minister of Magic Rufus Scrimgeour address...         0        0   \n",
       "2     On June 13, at a top-secret government laborat...         0        0   \n",
       "3     Monster hunter Gabriel Van Helsing and friar C...         0        0   \n",
       "4     Andy is preparing to leave for college. He has...         0        0   \n",
       "...                                                 ...       ...      ...   \n",
       "4664  Barbra Streisand portrays Yentl Mendel, a girl...         0        0   \n",
       "4665  Set in medieval England, the plot concerns the...         0        0   \n",
       "4666  In Chicago's Southside, as the events are narr...         0        0   \n",
       "4667  In 1977 , Om Prakash Makhija, a junior artist ...         1        0   \n",
       "4668  Chadwick Gates (Elvis Presley) has just gotten...         0        0   \n",
       "\n",
       "      ...  Adventure  History  Drama  Horror  Family  War  Animation  \\\n",
       "0     ...          1        0      0       0       0    0          0   \n",
       "1     ...          1        0      0       0       1    0          0   \n",
       "2     ...          1        0      1       1       0    0          0   \n",
       "3     ...          1        0      0       0       0    0          0   \n",
       "4     ...          1        0      0       0       1    0          1   \n",
       "...   ...        ...      ...    ...     ...     ...  ...        ...   \n",
       "4664  ...          0        0      1       0       0    0          0   \n",
       "4665  ...          1        0      0       0       1    0          0   \n",
       "4666  ...          0        0      1       0       0    0          0   \n",
       "4667  ...          0        0      1       0       0    0          0   \n",
       "4668  ...          0        0      0       0       0    0          0   \n",
       "\n",
       "      Biography  Action  Fantasy  \n",
       "0             0       0        0  \n",
       "1             0       0        1  \n",
       "2             0       0        1  \n",
       "3             0       1        1  \n",
       "4             0       0        1  \n",
       "...         ...     ...      ...  \n",
       "4664          0       0        0  \n",
       "4665          0       0        0  \n",
       "4666          0       0        0  \n",
       "4667          0       1        0  \n",
       "4668          0       0        0  \n",
       "\n",
       "[4669 rows x 26 columns]"
      ]
     },
     "execution_count": 2,
     "metadata": {},
     "output_type": "execute_result"
    }
   ],
   "source": [
    "data = pd.read_csv('genre_filtered_movie.csv')\n",
    "data"
   ]
  },
  {
   "cell_type": "code",
   "execution_count": 3,
   "metadata": {},
   "outputs": [],
   "source": [
    "# removing nan items\n",
    "nan_items = []\n",
    "for i,d in data.iterrows():\n",
    "    if type(d['summary_wiki'])!= str:\n",
    "        nan_items.append(i)\n",
    "data = data.drop(nan_items)"
   ]
  },
  {
   "cell_type": "code",
   "execution_count": 4,
   "metadata": {},
   "outputs": [],
   "source": [
    "# Removing names\n",
    "nlp = spacy.load('en_core_web_sm')\n",
    "stop_words = stopwords.words(\"english\")\n",
    "\n",
    "#filter out names through nerc\n",
    "def remove_names(text):\n",
    "    document = nlp(text)\n",
    "    ents = [e.text for e in document.ents if e.label_ != 'PERSON']\n",
    "    return \" \".join([item.text for item in document if item.text not in ents])\n",
    "\n",
    "data['summary_no_names'] = data['summary_wiki'].apply(lambda x: remove_names(x))\n",
    "data['cast']= [eval(c) for c in data['cast']]"
   ]
  },
  {
   "cell_type": "code",
   "execution_count": 5,
   "metadata": {},
   "outputs": [],
   "source": [
    "# sampling\n",
    "genres = ['Animation', 'Family', 'Fantasy', 'Mystery',\n",
    "       'Sci-Fi', 'Thriller', 'Biography', 'Musical', 'War', 'Western',\n",
    "       'Adventure', 'Horror', 'Drama', 'Romance', 'Action', 'Crime', 'Comedy',\n",
    "       'History']\n",
    "\n",
    "sample_movie_indexes = []\n",
    "for g in genres:\n",
    "    for i,m in data[data[g]==1].sample(2).iterrows():\n",
    "        sample_movie_indexes.append(i)\n",
    "\n",
    "train_index = [x for x in range(len(data)) if x not in sample_movie_indexes]\n",
    "\n",
    "test_df = data.iloc[sample_movie_indexes, :]\n",
    "data = data.iloc[train_index,:]"
   ]
  },
  {
   "cell_type": "code",
   "execution_count": 6,
   "metadata": {},
   "outputs": [],
   "source": [
    "# tokenizer\n",
    "def tokenize(content):\n",
    "    letters_only = re.sub(\"[^a-zA-Z]\",\" \", content)\n",
    "    lower_case = letters_only.lower()\n",
    "    tokens = word_tokenize(lower_case)\n",
    "    words = [w for w in tokens if not w in stop_words]\n",
    "    stems = [stemmer.lemmatize(word) for word in words]\n",
    "    return(stems)"
   ]
  },
  {
   "cell_type": "code",
   "execution_count": 7,
   "metadata": {},
   "outputs": [],
   "source": [
    "#create dictionary and incorporating 1 to n-gram  -> change to tf-idf\n",
    "stemmer = WordNetLemmatizer()\n",
    "vectorizer = CountVectorizer(ngram_range = (1,2),\n",
    "                             lowercase = True,\n",
    "                             tokenizer=tokenize,\n",
    "                             preprocessor = None,\n",
    "                             max_features=5000)\n",
    "\n",
    "tfidf_vect = TfidfVectorizer(analyzer = 'word',tokenizer = tokenize, lowercase = True)#, #ngram_range=(1, 2),\n",
    "#                                    lowercase=True, tokenizer=tokenize,\n",
    "#                                    preprocessor=None, max_features=10000)\n",
    "\n",
    "\n",
    "#bag of words\n",
    "bow = vectorizer.fit_transform(data['summary_no_names'])\n",
    "\n",
    "# vectorizer.vocabulary_\n",
    "tfidf = tfidf_vect.fit_transform(data['summary_no_names'])"
   ]
  },
  {
   "cell_type": "code",
   "execution_count": 8,
   "metadata": {},
   "outputs": [
    {
     "name": "stdout",
     "output_type": "stream",
     "text": [
      "0 :  ['king', 'father', 'son', 'love', 'return', 'death', 'take', 'family', 'war', 'life', 'queen', 'child', 'brother', 'young', 'army'] \n",
      "\n",
      "1 :  ['kill', 'police', 'find', 'car', 'house', 'man', 'shoot', 'tell', 'go', 'killed', 'take', 'back', 'body', 'escape', 'gun'] \n",
      "\n",
      "2 :  ['mary', 'jason', 'edward', 'series', 'elizabeth', 'henry', 'season', 'family', 'episode', 'jim', 'josh', 'year', 'jamie', 'show', 'character'] \n",
      "\n",
      "3 :  ['max', 'get', 'show', 'town', 'charlie', 'new', 'film', 'take', 'friend', 'billy', 'back', 'go', 'joe', 'make', 'find'] \n",
      "\n",
      "4 :  ['sam', 'escape', 'alien', 'ship', 'dr', 'human', 'kill', 'power', 'world', 'find', 'crew', 'team', 'new', 'control', 'attempt'] \n",
      "\n",
      "5 :  ['war', 'soldier', 'men', 'force', 'officer', 'attack', 'order', 'killed', 'team', 'army', 'escape', 'camp', 'agent', 'mission', 'kill'] \n",
      "\n",
      "6 :  ['jack', 'ben', 'sarah', 'david', 'george', 'kate', 'harry', 'house', 'matt', 'find', 'room', 'brian', 'greg', 'eric', 'howard'] \n",
      "\n",
      "7 :  ['john', 'frank', 'new', 'rachel', 'larry', 'robin', 'case', 'steve', 'jenny', 'help', 'bruce', 'abby', 'crime', 'police', 'prison'] \n",
      "\n",
      "8 :  ['tell', 'father', 'go', 'friend', 'home', 'family', 'mother', 'day', 'love', 'school', 'find', 'later', 'life', 'time', 'year'] \n",
      "\n",
      "9 :  ['find', 'group', 'escape', 'back', 'return', 'kill', 'take', 'help', 'attack', 'human', 'island', 'water', 'fall', 'peter', 'vampire'] \n",
      "\n"
     ]
    }
   ],
   "source": [
    "nb_topics = 10\n",
    "lda = LatentDirichletAllocation(n_components=nb_topics, max_iter=20,\n",
    "                                learning_method='batch')\n",
    "document_topics = lda.fit_transform(bow)\n",
    "sorting = np.argsort(lda.components_, axis=1)[:, ::-1]\n",
    "feature_names = np.array(vectorizer.get_feature_names())\n",
    "\n",
    "def print_topics(topics, feature_names, sorting, topics_per_chunk=6, n_words=20):\n",
    "    for i in range(0, len(topics), topics_per_chunk):\n",
    "        these_topics = topics[i: i + topics_per_chunk]\n",
    "        len_this_chunk = len(these_topics)\n",
    "        words = []\n",
    "        for i in range(n_words):\n",
    "            try:\n",
    "                words.append(feature_names[sorting[these_topics, i]])\n",
    "            except:\n",
    "                pass\n",
    "\n",
    "    #setting up word dictionary for comparison\n",
    "    word_dict = {}\n",
    "    for i in topics:\n",
    "        word_dict.update({i : [word[i] for word in words]})\n",
    "    \n",
    "    return word_dict\n",
    "\n",
    "lda_topics = print_topics(topics=range(nb_topics), feature_names=feature_names, sorting=sorting, topics_per_chunk=nb_topics, n_words=15)\n",
    "\n",
    "for i in range(nb_topics):\n",
    "    print(i,': ' ,lda_topics[i], '\\n')"
   ]
  },
  {
   "cell_type": "code",
   "execution_count": 9,
   "metadata": {},
   "outputs": [],
   "source": [
    "def topic_report(file, df, topics, feature_names, sorting):\n",
    "    \n",
    "    file.write('TOPICS REPORT \\n')\n",
    "    lda_topics = print_topics(topics=range(topics), feature_names=feature_names, sorting=sorting, topics_per_chunk=topics)\n",
    "\n",
    "    for i in range(topics):\n",
    "        file.write('---------------- \\n')\n",
    "        file.write('TOPIC : '+str(i)+ '\\n')\n",
    "        file.write('MOST IMPORTANT WORDS: '+str(lda_topics[i])+'\\n')\n",
    "        file.write('MOVIES OF THIS TOPIC: \\n')\n",
    "        for i,m in df[df['clusters'] == i].iterrows():\n",
    "            file.write(m['movie_id']+\"\\n\")\n",
    "    "
   ]
  },
  {
   "cell_type": "code",
   "execution_count": 10,
   "metadata": {},
   "outputs": [
    {
     "data": {
      "text/plain": [
       "91378.64363010936"
      ]
     },
     "execution_count": 10,
     "metadata": {},
     "output_type": "execute_result"
    }
   ],
   "source": [
    "lda.components_[0].sum()"
   ]
  },
  {
   "cell_type": "code",
   "execution_count": 11,
   "metadata": {},
   "outputs": [],
   "source": [
    "data['clusters'] = np.argmax(document_topics, axis=1)"
   ]
  },
  {
   "cell_type": "code",
   "execution_count": 12,
   "metadata": {},
   "outputs": [
    {
     "data": {
      "text/plain": [
       "<matplotlib.axes._subplots.AxesSubplot at 0x2a7af661dc8>"
      ]
     },
     "execution_count": 12,
     "metadata": {},
     "output_type": "execute_result"
    },
    {
     "data": {
      "image/png": "[encoded data removed]",
      "text/plain": [
       "<Figure size 432x288 with 1 Axes>"
      ]
     },
     "metadata": {
      "needs_background": "light"
     },
     "output_type": "display_data"
    }
   ],
   "source": [
    "data['clusters'].hist()"
   ]
  },
  {
   "cell_type": "code",
   "execution_count": 13,
   "metadata": {},
   "outputs": [],
   "source": [
    "def topic_word_cloud(lda_model,feature_names, topic):\n",
    "    \n",
    "    word_matrix = lda_model.components_[topic]\n",
    "    word_dict = dict(zip(feature_names, word_matrix))\n",
    "    wc = WordCloud(width=800, height=400, max_words=200).generate_from_frequencies(word_dict)\n",
    "    #plt.figure(figsize=(10, 10))\n",
    "    #plt.imshow(wc, interpolation='bilinear')\n",
    "    #plt.axis('off')\n",
    "    #plt.show()\n",
    "    return wc"
   ]
  },
  {
   "cell_type": "code",
   "execution_count": 14,
   "metadata": {},
   "outputs": [],
   "source": [
    "def get_list_of_actors_clustering(lda_model, document_topics, word_vectorizer, text):\n",
    "    feature_vector = word_vectorizer.transform([text])\n",
    "    topic_distribution = lda_model.transform(feature_vector)\n",
    "    topic = topic_distribution[0].argmax()\n",
    "    related_documents = []\n",
    "    clusters = np.argmax(document_topics, axis = 1)\n",
    "    for i, e in enumerate(clusters):\n",
    "        if e == topic:\n",
    "            related_documents.append(i)\n",
    "    return (topic, related_documents)\n",
    "    "
   ]
  },
  {
   "cell_type": "code",
   "execution_count": 15,
   "metadata": {},
   "outputs": [],
   "source": [
    "def euclidean_distance(a,b):\n",
    "    \n",
    "    return np.sqrt(np.power(a-b,2).sum())"
   ]
  },
  {
   "cell_type": "code",
   "execution_count": 16,
   "metadata": {},
   "outputs": [],
   "source": [
    "def baseline(document_topics, word_vectorizer, text, k = 10):\n",
    "    feature_vector = word_vectorizer.transform([text]).toarray()[0]\n",
    "    distances = []\n",
    "    for document in document_topics.toarray():\n",
    "        distances.append(euclidean(feature_vector, document))\n",
    "    \n",
    "    return np.argsort(np.array(distances))[0:k]"
   ]
  },
  {
   "cell_type": "code",
   "execution_count": 17,
   "metadata": {},
   "outputs": [],
   "source": [
    "def get_list_of_k_nearest_documents(lda_model, document_topics, word_vectorizer, text, k = 10):\n",
    "    feature_vector = word_vectorizer.transform([text])\n",
    "    topic_distribution = lda_model.transform(feature_vector)[0]\n",
    "    distances = []\n",
    "    for document in document_topics:\n",
    "        distances.append(euclidean(topic_distribution, document))\n",
    "    \n",
    "    return np.argsort(np.array(distances))[0:k]"
   ]
  },
  {
   "cell_type": "code",
   "execution_count": 18,
   "metadata": {},
   "outputs": [],
   "source": [
    "cast = list(data['cast'])\n",
    "def retrieve_cast(cast, document_indexes):\n",
    "    actors = dict()\n",
    "    \n",
    "    for index in document_indexes:\n",
    "        for d in cast[index]:\n",
    "            for v in d.values():\n",
    "                actor = v[0][1:]\n",
    "                if actor not in actors:\n",
    "                    actors[actor] = 1\n",
    "                else:\n",
    "                    actors[actor]+=1\n",
    "    return sorted(actors.items(), key = lambda x:x[1], reverse = True)"
   ]
  },
  {
   "cell_type": "code",
   "execution_count": 19,
   "metadata": {},
   "outputs": [],
   "source": [
    "def log_actors(actors):\n",
    "    return [actor[0]+' : '+ str(actor[1])+'\\n' for actor in actors][0:10]"
   ]
  },
  {
   "cell_type": "code",
   "execution_count": 20,
   "metadata": {},
   "outputs": [
    {
     "name": "stdout",
     "output_type": "stream",
     "text": [
      "baseline ./results/tfidf/baseline.txt\n",
      "lda training\n",
      "word cloud\n",
      "experimenting\n",
      "lda training\n",
      "word cloud\n",
      "experimenting\n",
      "lda training\n",
      "word cloud\n",
      "experimenting\n",
      "lda training\n",
      "word cloud\n",
      "experimenting\n",
      "lda training\n",
      "word cloud\n",
      "experimenting\n",
      "lda training\n",
      "word cloud\n",
      "experimenting\n",
      "lda training\n",
      "word cloud\n",
      "experimenting\n",
      "lda training\n",
      "word cloud\n",
      "experimenting\n",
      "lda training\n",
      "word cloud\n",
      "experimenting\n",
      "lda training\n",
      "word cloud\n",
      "experimenting\n",
      "lda training\n",
      "word cloud\n",
      "experimenting\n",
      "lda training\n",
      "word cloud\n",
      "experimenting\n",
      "lda training\n",
      "word cloud\n",
      "experimenting\n",
      "lda training\n",
      "word cloud\n",
      "experimenting\n",
      "lda training\n",
      "word cloud\n",
      "experimenting\n",
      "lda training\n",
      "word cloud\n",
      "experimenting\n",
      "lda training\n",
      "word cloud\n",
      "experimenting\n",
      "lda training\n",
      "word cloud\n",
      "experimenting\n",
      "baseline ./results/bow/baseline.txt\n",
      "lda training\n",
      "word cloud\n",
      "experimenting\n",
      "lda training\n",
      "word cloud\n",
      "experimenting\n",
      "lda training\n"
     ]
    },
    {
     "name": "stderr",
     "output_type": "stream",
     "text": [
      "C:\\Users\\FCH\\.conda\\envs\\tm\\lib\\site-packages\\ipykernel_launcher.py:51: RuntimeWarning: More than 20 figures have been opened. Figures created through the pyplot interface (`matplotlib.pyplot.figure`) are retained until explicitly closed and may consume too much memory. (To control this warning, see the rcParam `figure.max_open_warning`).\n"
     ]
    },
    {
     "name": "stdout",
     "output_type": "stream",
     "text": [
      "word cloud\n",
      "experimenting\n",
      "lda training\n"
     ]
    },
    {
     "name": "stderr",
     "output_type": "stream",
     "text": [
      "C:\\Users\\FCH\\.conda\\envs\\tm\\lib\\site-packages\\ipykernel_launcher.py:51: RuntimeWarning: More than 20 figures have been opened. Figures created through the pyplot interface (`matplotlib.pyplot.figure`) are retained until explicitly closed and may consume too much memory. (To control this warning, see the rcParam `figure.max_open_warning`).\n"
     ]
    },
    {
     "name": "stdout",
     "output_type": "stream",
     "text": [
      "word cloud\n",
      "experimenting\n",
      "lda training\n"
     ]
    },
    {
     "name": "stderr",
     "output_type": "stream",
     "text": [
      "C:\\Users\\FCH\\.conda\\envs\\tm\\lib\\site-packages\\ipykernel_launcher.py:51: RuntimeWarning: More than 20 figures have been opened. Figures created through the pyplot interface (`matplotlib.pyplot.figure`) are retained until explicitly closed and may consume too much memory. (To control this warning, see the rcParam `figure.max_open_warning`).\n"
     ]
    },
    {
     "name": "stdout",
     "output_type": "stream",
     "text": [
      "word cloud\n",
      "experimenting\n",
      "lda training\n"
     ]
    },
    {
     "name": "stderr",
     "output_type": "stream",
     "text": [
      "C:\\Users\\FCH\\.conda\\envs\\tm\\lib\\site-packages\\ipykernel_launcher.py:51: RuntimeWarning: More than 20 figures have been opened. Figures created through the pyplot interface (`matplotlib.pyplot.figure`) are retained until explicitly closed and may consume too much memory. (To control this warning, see the rcParam `figure.max_open_warning`).\n"
     ]
    },
    {
     "name": "stdout",
     "output_type": "stream",
     "text": [
      "word cloud\n",
      "experimenting\n",
      "lda training\n"
     ]
    },
    {
     "name": "stderr",
     "output_type": "stream",
     "text": [
      "C:\\Users\\FCH\\.conda\\envs\\tm\\lib\\site-packages\\ipykernel_launcher.py:51: RuntimeWarning: More than 20 figures have been opened. Figures created through the pyplot interface (`matplotlib.pyplot.figure`) are retained until explicitly closed and may consume too much memory. (To control this warning, see the rcParam `figure.max_open_warning`).\n"
     ]
    },
    {
     "name": "stdout",
     "output_type": "stream",
     "text": [
      "word cloud\n",
      "experimenting\n",
      "lda training\n"
     ]
    },
    {
     "name": "stderr",
     "output_type": "stream",
     "text": [
      "C:\\Users\\FCH\\.conda\\envs\\tm\\lib\\site-packages\\ipykernel_launcher.py:51: RuntimeWarning: More than 20 figures have been opened. Figures created through the pyplot interface (`matplotlib.pyplot.figure`) are retained until explicitly closed and may consume too much memory. (To control this warning, see the rcParam `figure.max_open_warning`).\n"
     ]
    },
    {
     "name": "stdout",
     "output_type": "stream",
     "text": [
      "word cloud\n",
      "experimenting\n",
      "lda training\n"
     ]
    },
    {
     "name": "stderr",
     "output_type": "stream",
     "text": [
      "C:\\Users\\FCH\\.conda\\envs\\tm\\lib\\site-packages\\ipykernel_launcher.py:51: RuntimeWarning: More than 20 figures have been opened. Figures created through the pyplot interface (`matplotlib.pyplot.figure`) are retained until explicitly closed and may consume too much memory. (To control this warning, see the rcParam `figure.max_open_warning`).\n"
     ]
    },
    {
     "name": "stdout",
     "output_type": "stream",
     "text": [
      "word cloud\n",
      "experimenting\n",
      "lda training\n"
     ]
    },
    {
     "name": "stderr",
     "output_type": "stream",
     "text": [
      "C:\\Users\\FCH\\.conda\\envs\\tm\\lib\\site-packages\\ipykernel_launcher.py:51: RuntimeWarning: More than 20 figures have been opened. Figures created through the pyplot interface (`matplotlib.pyplot.figure`) are retained until explicitly closed and may consume too much memory. (To control this warning, see the rcParam `figure.max_open_warning`).\n"
     ]
    },
    {
     "name": "stdout",
     "output_type": "stream",
     "text": [
      "word cloud\n",
      "experimenting\n",
      "lda training\n"
     ]
    },
    {
     "name": "stderr",
     "output_type": "stream",
     "text": [
      "C:\\Users\\FCH\\.conda\\envs\\tm\\lib\\site-packages\\ipykernel_launcher.py:51: RuntimeWarning: More than 20 figures have been opened. Figures created through the pyplot interface (`matplotlib.pyplot.figure`) are retained until explicitly closed and may consume too much memory. (To control this warning, see the rcParam `figure.max_open_warning`).\n"
     ]
    },
    {
     "name": "stdout",
     "output_type": "stream",
     "text": [
      "word cloud\n",
      "experimenting\n",
      "lda training\n"
     ]
    },
    {
     "name": "stderr",
     "output_type": "stream",
     "text": [
      "C:\\Users\\FCH\\.conda\\envs\\tm\\lib\\site-packages\\ipykernel_launcher.py:51: RuntimeWarning: More than 20 figures have been opened. Figures created through the pyplot interface (`matplotlib.pyplot.figure`) are retained until explicitly closed and may consume too much memory. (To control this warning, see the rcParam `figure.max_open_warning`).\n"
     ]
    },
    {
     "name": "stdout",
     "output_type": "stream",
     "text": [
      "word cloud\n",
      "experimenting\n",
      "lda training\n"
     ]
    },
    {
     "name": "stderr",
     "output_type": "stream",
     "text": [
      "C:\\Users\\FCH\\.conda\\envs\\tm\\lib\\site-packages\\ipykernel_launcher.py:51: RuntimeWarning: More than 20 figures have been opened. Figures created through the pyplot interface (`matplotlib.pyplot.figure`) are retained until explicitly closed and may consume too much memory. (To control this warning, see the rcParam `figure.max_open_warning`).\n"
     ]
    },
    {
     "name": "stdout",
     "output_type": "stream",
     "text": [
      "word cloud\n",
      "experimenting\n",
      "lda training\n"
     ]
    },
    {
     "name": "stderr",
     "output_type": "stream",
     "text": [
      "C:\\Users\\FCH\\.conda\\envs\\tm\\lib\\site-packages\\ipykernel_launcher.py:51: RuntimeWarning: More than 20 figures have been opened. Figures created through the pyplot interface (`matplotlib.pyplot.figure`) are retained until explicitly closed and may consume too much memory. (To control this warning, see the rcParam `figure.max_open_warning`).\n"
     ]
    },
    {
     "name": "stdout",
     "output_type": "stream",
     "text": [
      "word cloud\n",
      "experimenting\n",
      "lda training\n"
     ]
    },
    {
     "name": "stderr",
     "output_type": "stream",
     "text": [
      "C:\\Users\\FCH\\.conda\\envs\\tm\\lib\\site-packages\\ipykernel_launcher.py:51: RuntimeWarning: More than 20 figures have been opened. Figures created through the pyplot interface (`matplotlib.pyplot.figure`) are retained until explicitly closed and may consume too much memory. (To control this warning, see the rcParam `figure.max_open_warning`).\n"
     ]
    },
    {
     "name": "stdout",
     "output_type": "stream",
     "text": [
      "word cloud\n",
      "experimenting\n",
      "lda training\n"
     ]
    },
    {
     "name": "stderr",
     "output_type": "stream",
     "text": [
      "C:\\Users\\FCH\\.conda\\envs\\tm\\lib\\site-packages\\ipykernel_launcher.py:51: RuntimeWarning: More than 20 figures have been opened. Figures created through the pyplot interface (`matplotlib.pyplot.figure`) are retained until explicitly closed and may consume too much memory. (To control this warning, see the rcParam `figure.max_open_warning`).\n"
     ]
    },
    {
     "name": "stdout",
     "output_type": "stream",
     "text": [
      "word cloud\n",
      "experimenting\n",
      "lda training\n"
     ]
    },
    {
     "name": "stderr",
     "output_type": "stream",
     "text": [
      "C:\\Users\\FCH\\.conda\\envs\\tm\\lib\\site-packages\\ipykernel_launcher.py:51: RuntimeWarning: More than 20 figures have been opened. Figures created through the pyplot interface (`matplotlib.pyplot.figure`) are retained until explicitly closed and may consume too much memory. (To control this warning, see the rcParam `figure.max_open_warning`).\n"
     ]
    },
    {
     "name": "stdout",
     "output_type": "stream",
     "text": [
      "word cloud\n",
      "experimenting\n",
      "lda training\n"
     ]
    },
    {
     "name": "stderr",
     "output_type": "stream",
     "text": [
      "C:\\Users\\FCH\\.conda\\envs\\tm\\lib\\site-packages\\ipykernel_launcher.py:51: RuntimeWarning: More than 20 figures have been opened. Figures created through the pyplot interface (`matplotlib.pyplot.figure`) are retained until explicitly closed and may consume too much memory. (To control this warning, see the rcParam `figure.max_open_warning`).\n"
     ]
    },
    {
     "name": "stdout",
     "output_type": "stream",
     "text": [
      "word cloud\n",
      "experimenting\n"
     ]
    },
    {
     "data": {
      "image/png": "[encoded data removed]",
      "text/plain": [
       "<Figure size 432x288 with 1 Axes>"
      ]
     },
     "metadata": {
      "needs_background": "light"
     },
     "output_type": "display_data"
    },
    {
     "data": {
      "image/png": "[encoded data removed]",
      "text/plain": [
       "<Figure size 432x288 with 1 Axes>"
      ]
     },
     "metadata": {
      "needs_background": "light"
     },
     "output_type": "display_data"
    },
    {
     "data": {
      "image/png": "[encoded data removed]",
      "text/plain": [
       "<Figure size 432x288 with 1 Axes>"
      ]
     },
     "metadata": {
      "needs_background": "light"
     },
     "output_type": "display_data"
    },
    {
     "data": {
      "image/png": "[encoded data removed]",
      "text/plain": [
       "<Figure size 432x288 with 1 Axes>"
      ]
     },
     "metadata": {
      "needs_background": "light"
     },
     "output_type": "display_data"
    },
    {
     "data": {
      "image/png": "[encoded data removed]",
      "text/plain": [
       "<Figure size 432x288 with 1 Axes>"
      ]
     },
     "metadata": {
      "needs_background": "light"
     },
     "output_type": "display_data"
    },
    {
     "data": {
      "image/png": "[encoded data removed]",
      "text/plain": [
       "<Figure size 432x288 with 1 Axes>"
      ]
     },
     "metadata": {
      "needs_background": "light"
     },
     "output_type": "display_data"
    },
    {
     "data": {
      "image/png": "[encoded data removed]",
      "text/plain": [
       "<Figure size 432x288 with 1 Axes>"
      ]
     },
     "metadata": {
      "needs_background": "light"
     },
     "output_type": "display_data"
    },
    {
     "data": {
      "image/png": "[encoded data removed]",
      "text/plain": [
       "<Figure size 432x288 with 1 Axes>"
      ]
     },
     "metadata": {
      "needs_background": "light"
     },
     "output_type": "display_data"
    },
    {
     "data": {
      "image/png": "[encoded data removed]",
      "text/plain": [
       "<Figure size 432x288 with 1 Axes>"
      ]
     },
     "metadata": {
      "needs_background": "light"
     },
     "output_type": "display_data"
    },
    {
     "data": {
      "image/png": "[encoded data removed]",
      "text/plain": [
       "<Figure size 432x288 with 1 Axes>"
      ]
     },
     "metadata": {
      "needs_background": "light"
     },
     "output_type": "display_data"
    },
    {
     "data": {
      "image/png": "[encoded data removed]",
      "text/plain": [
       "<Figure size 432x288 with 1 Axes>"
      ]
     },
     "metadata": {
      "needs_background": "light"
     },
     "output_type": "display_data"
    },
    {
     "data": {
      "image/png": "[encoded data removed]",
      "text/plain": [
       "<Figure size 432x288 with 1 Axes>"
      ]
     },
     "metadata": {
      "needs_background": "light"
     },
     "output_type": "display_data"
    },
    {
     "data": {
      "image/png": "[encoded data removed]",
      "text/plain": [
       "<Figure size 432x288 with 1 Axes>"
      ]
     },
     "metadata": {
      "needs_background": "light"
     },
     "output_type": "display_data"
    },
    {
     "data": {
      "image/png": "[encoded data removed]",
      "text/plain": [
       "<Figure size 432x288 with 1 Axes>"
      ]
     },
     "metadata": {
      "needs_background": "light"
     },
     "output_type": "display_data"
    },
    {
     "data": {
      "image/png": "[encoded data removed]",
      "text/plain": [
       "<Figure size 432x288 with 1 Axes>"
      ]
     },
     "metadata": {
      "needs_background": "light"
     },
     "output_type": "display_data"
    },
    {
     "data": {
      "image/png": "[encoded data removed]",
      "text/plain": [
       "<Figure size 432x288 with 1 Axes>"
      ]
     },
     "metadata": {
      "needs_background": "light"
     },
     "output_type": "display_data"
    },
    {
     "data": {
      "image/png": "[encoded data removed]",
      "text/plain": [
       "<Figure size 432x288 with 1 Axes>"
      ]
     },
     "metadata": {
      "needs_background": "light"
     },
     "output_type": "display_data"
    },
    {
     "data": {
      "image/png": "[encoded data removed]",
      "text/plain": [
       "<Figure size 432x288 with 1 Axes>"
      ]
     },
     "metadata": {
      "needs_background": "light"
     },
     "output_type": "display_data"
    },
    {
     "data": {
      "image/png": "[encoded data removed]",
      "text/plain": [
       "<Figure size 432x288 with 1 Axes>"
      ]
     },
     "metadata": {
      "needs_background": "light"
     },
     "output_type": "display_data"
    },
    {
     "data": {
      "image/png": "[encoded data removed]",
      "text/plain": [
       "<Figure size 432x288 with 1 Axes>"
      ]
     },
     "metadata": {
      "needs_background": "light"
     },
     "output_type": "display_data"
    },
    {
     "data": {
      "image/png": "[encoded data removed]",
      "text/plain": [
       "<Figure size 432x288 with 1 Axes>"
      ]
     },
     "metadata": {
      "needs_background": "light"
     },
     "output_type": "display_data"
    },
    {
     "data": {
      "image/png": "[encoded data removed]",
      "text/plain": [
       "<Figure size 432x288 with 1 Axes>"
      ]
     },
     "metadata": {
      "needs_background": "light"
     },
     "output_type": "display_data"
    },
    {
     "data": {
      "image/png": "[encoded data removed]",
      "text/plain": [
       "<Figure size 432x288 with 1 Axes>"
      ]
     },
     "metadata": {
      "needs_background": "light"
     },
     "output_type": "display_data"
    },
    {
     "data": {
      "image/png": "[encoded data removed]",
      "text/plain": [
       "<Figure size 432x288 with 1 Axes>"
      ]
     },
     "metadata": {
      "needs_background": "light"
     },
     "output_type": "display_data"
    },
    {
     "data": {
      "image/png": "[encoded data removed]",
      "text/plain": [
       "<Figure size 432x288 with 1 Axes>"
      ]
     },
     "metadata": {
      "needs_background": "light"
     },
     "output_type": "display_data"
    },
    {
     "data": {
      "image/png": "[encoded data removed]",
      "text/plain": [
       "<Figure size 432x288 with 1 Axes>"
      ]
     },
     "metadata": {
      "needs_background": "light"
     },
     "output_type": "display_data"
    },
    {
     "data": {
      "image/png": "[encoded data removed]",
      "text/plain": [
       "<Figure size 432x288 with 1 Axes>"
      ]
     },
     "metadata": {
      "needs_background": "light"
     },
     "output_type": "display_data"
    },
    {
     "data": {
      "image/png": "[encoded data removed]",
      "text/plain": [
       "<Figure size 432x288 with 1 Axes>"
      ]
     },
     "metadata": {
      "needs_background": "light"
     },
     "output_type": "display_data"
    },
    {
     "data": {
      "image/png": "[encoded data removed]",
      "text/plain": [
       "<Figure size 432x288 with 1 Axes>"
      ]
     },
     "metadata": {
      "needs_background": "light"
     },
     "output_type": "display_data"
    },
    {
     "data": {
      "image/png": "[encoded data removed]",
      "text/plain": [
       "<Figure size 432x288 with 1 Axes>"
      ]
     },
     "metadata": {
      "needs_background": "light"
     },
     "output_type": "display_data"
    },
    {
     "data": {
      "image/png": "[encoded data removed]",
      "text/plain": [
       "<Figure size 432x288 with 1 Axes>"
      ]
     },
     "metadata": {
      "needs_background": "light"
     },
     "output_type": "display_data"
    },
    {
     "data": {
      "image/png": "[encoded data removed]",
      "text/plain": [
       "<Figure size 432x288 with 1 Axes>"
      ]
     },
     "metadata": {
      "needs_background": "light"
     },
     "output_type": "display_data"
    },
    {
     "data": {
      "image/png": "[encoded data removed]",
      "text/plain": [
       "<Figure size 432x288 with 1 Axes>"
      ]
     },
     "metadata": {
      "needs_background": "light"
     },
     "output_type": "display_data"
    },
    {
     "data": {
      "image/png": "[encoded data removed]",
      "text/plain": [
       "<Figure size 432x288 with 1 Axes>"
      ]
     },
     "metadata": {
      "needs_background": "light"
     },
     "output_type": "display_data"
    },
    {
     "data": {
      "image/png": "[encoded data removed]",
      "text/plain": [
       "<Figure size 432x288 with 1 Axes>"
      ]
     },
     "metadata": {
      "needs_background": "light"
     },
     "output_type": "display_data"
    },
    {
     "data": {
      "image/png": "[encoded data removed]",
      "text/plain": [
       "<Figure size 432x288 with 1 Axes>"
      ]
     },
     "metadata": {
      "needs_background": "light"
     },
     "output_type": "display_data"
    }
   ],
   "source": [
    "# Selecting the vectorizer\n",
    "bow = CountVectorizer(lowercase = True,tokenizer=tokenize)\n",
    "tfidf = TfidfVectorizer(analyzer = 'word',tokenizer = tokenize, lowercase = True)\n",
    "\n",
    "vectorizers = [tfidf, bow]\n",
    "                \n",
    "# Selecting number of topics\n",
    "number_of_topics = list(range(2,20))\n",
    "                        \n",
    "# Selecting the k nearest\n",
    "k_nearest = [3,5,10]\n",
    "\n",
    "\n",
    "for v in vectorizers:\n",
    "    path_string ='./results/'\n",
    "    #print()\n",
    "    if type(v)==TfidfVectorizer:\n",
    "        path_string+='tfidf/'\n",
    "    else:\n",
    "        path_string+='bow/'\n",
    "        \n",
    "    feature_matrix = v.fit_transform(data['summary_no_names'])\n",
    "    # baseline\n",
    "    baseline_path = path_string+'baseline.txt'\n",
    "    print('baseline',baseline_path )\n",
    "    baseline_file = open(baseline_path, 'w+', encoding = 'utf-8')\n",
    "    baseline_file.write('BASELINE FILE \\n')\n",
    "    for i,movie in test_df.iterrows():\n",
    "        baseline_file.write('***************\\n')\n",
    "        baseline_file.write('MOVIE :'+movie['movie_id']+'\\n')\n",
    "        b = log_actors(retrieve_cast(cast,baseline(feature_matrix, v, movie['summary_wiki'])))\n",
    "        baseline_file.writelines(b)\n",
    "    baseline_file.close()\n",
    "    \n",
    "    for t in number_of_topics:\n",
    "        experiment_path=path_string+\"topic\"+str(t)+\"/\"\n",
    "        if not os.path.exists(experiment_path):\n",
    "            os.mkdir(experiment_path)\n",
    "            \n",
    "        lda = LatentDirichletAllocation(n_components = t)\n",
    "        print('lda training')\n",
    "        document_topics = lda.fit_transform(feature_matrix)\n",
    "        feature_names = np.array(v.get_feature_names())\n",
    "        \n",
    "        clusters =  np.argmax(document_topics, axis=1)\n",
    "        data['clusters'] = clusters\n",
    "        cluster_counts = [0 for _ in range(t)]\n",
    "        for c in clusters:\n",
    "            cluster_counts[c]+=1\n",
    "        \n",
    "        plt.figure()\n",
    "        plt.bar(range(t), cluster_counts)\n",
    "        plt.savefig(experiment_path+'cluster_distribution.png')\n",
    "        \n",
    "        t_report_file = open(experiment_path+'topic_report.txt','w+', encoding = 'utf-8')\n",
    "        topic_report(t_report_file, data, t, np.array(v.get_feature_names()), np.argsort(lda.components_, axis=1)[:, ::-1])\n",
    "        t_report_file.close()\n",
    "        \n",
    "        word_cloud_path = experiment_path+'wordclouds/'\n",
    "        print('word cloud')\n",
    "        if not os.path.exists(word_cloud_path):\n",
    "            os.mkdir(word_cloud_path)\n",
    "            \n",
    "        for w in range(t):\n",
    "            word_cloud = topic_word_cloud(lda, feature_names, w)\n",
    "            word_cloud.to_file(word_cloud_path+str(w)+'.png')\n",
    "        \n",
    "        print('experimenting')\n",
    "        for k in k_nearest:\n",
    "            experiment_file_name =experiment_path+'k_'+str(k)+'.txt'\n",
    "            experiment_file = open(experiment_file_name, 'w+', encoding = 'utf-8')\n",
    "            experiment_file.write('Experiment \\n')\n",
    "            experiment_file.write(\"## METADATA ## \\n\")\n",
    "            experiment_file.write(\"Vectorizer :\"+ str(v)+'\\n')\n",
    "            experiment_file.write(\"N_topics :\"+ str(t)+'\\n')\n",
    "            experiment_file.write(\"K_nearest :\"+ str(k)+'\\n')\n",
    "            experiment_file.write(\"##############\")\n",
    "            \n",
    "            for i,movie in test_df.iterrows():\n",
    "                experiment_file.write('***********************\\n')\n",
    "                experiment_file.write('MOVIE :'+ movie['movie_id']+'\\n')\n",
    "                b = log_actors(retrieve_cast(cast,get_list_of_k_nearest_documents(lda,document_topics, v, movie['summary_wiki'], k = k)))\n",
    "                experiment_file.writelines(b)\n",
    "            \n",
    "            experiment_file.close()\n",
    "        \n",
    "        experiment_file_name = experiment_path+'cluster.txt'\n",
    "        experiment_file = open(experiment_file_name, 'w+', encoding = 'utf-8')\n",
    "        experiment_file.write('Experiment cluster \\n')\n",
    "        \n",
    "        for i,movie in test_df.iterrows():\n",
    "            experiment_file.write('***********************\\n')\n",
    "            experiment_file.write('MOVIE :'+ movie['movie_id']+'\\n')\n",
    "            cl, doc_index = get_list_of_actors_clustering(lda, document_topics, v, movie['summary_wiki'])\n",
    "            experiment_file.write('CLUSTER :' +str(cl)+'\\n')\n",
    "            b = log_actors(retrieve_cast(cast,doc_index))\n",
    "            experiment_file.writelines(b)\n",
    "        \n",
    "        experiment_file.close()\n",
    "            "
   ]
  },
  {
   "cell_type": "code",
   "execution_count": 21,
   "metadata": {},
   "outputs": [
    {
     "name": "stdout",
     "output_type": "stream",
     "text": [
      "<class 'sklearn.feature_extraction.text.TfidfVectorizer'>\n",
      "<class 'sklearn.feature_extraction.text.CountVectorizer'>\n"
     ]
    }
   ],
   "source": [
    "for v in vectorizers:\n",
    "    print(type(v))"
   ]
  },
  {
   "cell_type": "code",
   "execution_count": 22,
   "metadata": {},
   "outputs": [
    {
     "data": {
      "text/plain": [
       "False"
      ]
     },
     "execution_count": 22,
     "metadata": {},
     "output_type": "execute_result"
    }
   ],
   "source": [
    "type(vectorizers[1])==TfidfVectorizer"
   ]
  }
 ],
 "metadata": {
  "kernelspec": {
   "display_name": "Python 3",
   "language": "python",
   "name": "python3"
  },
  "language_info": {
   "codemirror_mode": {
    "name": "ipython",
    "version": 3
   },
   "file_extension": ".py",
   "mimetype": "text/x-python",
   "name": "python",
   "nbconvert_exporter": "python",
   "pygments_lexer": "ipython3",
   "version": "3.7.6"
  }
 },
 "nbformat": 4,
 "nbformat_minor": 2
}
