{
 "cells": [
  {
   "cell_type": "code",
   "execution_count": 3,
   "metadata": {
    "ExecuteTime": {
     "end_time": "2020-03-04T16:37:06.616075Z",
     "start_time": "2020-03-04T16:37:05.932108Z"
    },
    "collapsed": true
   },
   "outputs": [],
   "source": [
    "import pandas as pd\n",
    "import json\n",
    "import re"
   ]
  },
  {
   "cell_type": "code",
   "execution_count": 37,
   "metadata": {
    "ExecuteTime": {
     "end_time": "2020-03-04T16:43:06.747095Z",
     "start_time": "2020-03-04T16:43:06.716867Z"
    }
   },
   "outputs": [],
   "source": [
    "df = pd.read_csv('movies_data_400.csv')\n",
    "df = df.drop('Unnamed: 0', axis=1)"
   ]
  },
  {
   "cell_type": "code",
   "execution_count": 38,
   "metadata": {
    "ExecuteTime": {
     "end_time": "2020-03-04T16:43:06.948191Z",
     "start_time": "2020-03-04T16:43:06.916800Z"
    },
    "collapsed": true
   },
   "outputs": [],
   "source": [
    "def get_actors_and_movies(df):\n",
    "    \n",
    "    df['cast_id'] = df['cast'].apply(lambda x: re.findall(\"(?<={').*?(?=':)\", str(x[1:-1])))\n",
    "    \n",
    "    actor_dict = {}\n",
    "\n",
    "    def add_to_dict(x):\n",
    "        movie = x['movie_id']\n",
    "        for i in x['cast_id']:\n",
    "            if i not in actor_dict.keys():\n",
    "                actor_dict[i] = [movie]\n",
    "            else:\n",
    "                actor_dict[i].append(movie)\n",
    "\n",
    "    df.apply(lambda x: add_to_dict(x), axis=1)\n",
    "    \n",
    "    return actor_dict\n",
    "\n",
    "actors_dictionary = get_actors_and_movies(df)"
   ]
  },
  {
   "cell_type": "code",
   "execution_count": 137,
   "metadata": {
    "ExecuteTime": {
     "end_time": "2020-03-04T18:06:52.315963Z",
     "start_time": "2020-03-04T18:06:51.636039Z"
    }
   },
   "outputs": [],
   "source": [
    "def sum_movies_per_actor(df, names=True):\n",
    "    \n",
    "    if names:\n",
    "        names = 'summary_wiki'\n",
    "    if not names:\n",
    "        names = 'movie_plot_no_names'\n",
    "    \n",
    "    df['cast_id'] = df['cast'].apply(lambda x: re.findall(\"(?<={').*?(?=':)\", str(x[1:-1])))\n",
    "    \n",
    "    actor_dict = {}\n",
    "\n",
    "    def add_to_dict(x):\n",
    "        movie = x[names][2:-2]\n",
    "        #removing empty plots\n",
    "        if x[names] not in  [\"['NoText']\", 'NoSearch']:\n",
    "            for i in x['cast_id']:\n",
    "                if i not in actor_dict.keys():\n",
    "                    actor_dict[i] = movie\n",
    "                else:\n",
    "                    actor_dict[i] += ' ' + movie\n",
    "\n",
    "    df.apply(lambda x: add_to_dict(x), axis=1)\n",
    "    \n",
    "    return actor_dict\n",
    "\n",
    "actors_movie_sum = sum_movies_per_actor(df)"
   ]
  },
  {
   "cell_type": "code",
   "execution_count": 123,
   "metadata": {
    "ExecuteTime": {
     "end_time": "2020-03-04T17:48:20.603833Z",
     "start_time": "2020-03-04T17:48:20.247124Z"
    }
   },
   "outputs": [],
   "source": [
    "#read all movies from directory\n",
    "names = []\n",
    "for i in range(400, 6500, 400):\n",
    "    names.append('movies_data_{}.csv'.format(i))\n",
    "names += ['movie_data_end.csv', 'movie_data_total.csv']\n",
    "df = pd.read_csv(names[0])\n",
    "for name in names[1:]:\n",
    "    df_t = pd.read_csv(name)\n",
    "    df = df.append(df_t)"
   ]
  },
  {
   "cell_type": "code",
   "execution_count": 124,
   "metadata": {
    "ExecuteTime": {
     "end_time": "2020-03-04T17:48:22.135769Z",
     "start_time": "2020-03-04T17:48:22.125508Z"
    },
    "scrolled": false
   },
   "outputs": [],
   "source": [
    "df = df.drop_duplicates(subset=['movie_id', 'movie_name'], keep='first')"
   ]
  },
  {
   "cell_type": "markdown",
   "metadata": {},
   "source": [
    "Remove names from text"
   ]
  },
  {
   "cell_type": "code",
   "execution_count": 142,
   "metadata": {
    "ExecuteTime": {
     "end_time": "2020-03-04T18:18:06.551751Z",
     "start_time": "2020-03-04T18:09:35.962844Z"
    }
   },
   "outputs": [],
   "source": [
    "from sklearn.feature_extraction.text import CountVectorizer\n",
    "from nltk.stem.wordnet import WordNetLemmatizer\n",
    "import re\n",
    "from nltk.corpus import stopwords\n",
    "from sklearn.feature_extraction.text import TfidfTransformer\n",
    "import spacy\n",
    "\n",
    "nlp = spacy.load('en_core_web_sm')\n",
    "stop_words = stopwords.words(\"english\")\n",
    "\n",
    "#filter out names through nerc\n",
    "def remove_names(text):\n",
    "    document = nlp(text)\n",
    "    ents = [e.text for e in document.ents if e.label_ != 'PERSON']\n",
    "    return \" \".join([item.text for item in document if item.text not in ents])\n",
    "\n",
    "df['movie_plot_no_names'] = df['summary_wiki'].apply(lambda x: remove_names(x))\n",
    "\n",
    "# actors_df['movie_plot_no_names'] = actors_df['movie_plot'].apply(lambda x: remove_names(x))"
   ]
  },
  {
   "cell_type": "code",
   "execution_count": 143,
   "metadata": {
    "ExecuteTime": {
     "end_time": "2020-03-04T18:18:07.869794Z",
     "start_time": "2020-03-04T18:18:06.553742Z"
    },
    "collapsed": true
   },
   "outputs": [],
   "source": [
    "actors_dictionary = get_actors_and_movies(df)\n",
    "actors_movie_sum_True = sum_movies_per_actor(df, True)\n",
    "\n",
    "actors_data = []\n",
    "for i in actors_movie_sum.keys():\n",
    "    actors_data.append([i, actors_movie_sum[i]])\n",
    "\n",
    "actors_df = pd.DataFrame(actors_data, columns=['actor_id', 'movie_plot'])"
   ]
  },
  {
   "cell_type": "code",
   "execution_count": 144,
   "metadata": {
    "ExecuteTime": {
     "end_time": "2020-03-04T18:19:39.158302Z",
     "start_time": "2020-03-04T18:19:33.329532Z"
    },
    "collapsed": true
   },
   "outputs": [],
   "source": [
    "actors_df.to_csv('actors_df.csv')"
   ]
  },
  {
   "cell_type": "markdown",
   "metadata": {},
   "source": [
    "Try to train a Doc2Vec model on grouped text by actor"
   ]
  },
  {
   "cell_type": "code",
   "execution_count": 1,
   "metadata": {
    "ExecuteTime": {
     "end_time": "2020-03-04T16:35:35.994579Z",
     "start_time": "2020-03-04T16:35:33.904499Z"
    }
   },
   "outputs": [],
   "source": [
    "from gensim.models.doc2vec import Doc2Vec, TaggedDocument\n",
    "from nltk.tokenize import word_tokenize\n",
    "actors_df = pd.read_csv('actors_df.csv')"
   ]
  },
  {
   "cell_type": "code",
   "execution_count": 155,
   "metadata": {
    "ExecuteTime": {
     "end_time": "2020-03-04T18:31:38.275195Z",
     "start_time": "2020-03-04T18:27:08.952694Z"
    }
   },
   "outputs": [],
   "source": [
    "tagged_data = [TaggedDocument(words=word_tokenize(_d.lower()), tags=[str(i)]) for i, _d in enumerate(actors_df['movie_plot'])]"
   ]
  },
  {
   "cell_type": "code",
   "execution_count": 156,
   "metadata": {
    "ExecuteTime": {
     "end_time": "2020-03-04T20:00:55.900970Z",
     "start_time": "2020-03-04T18:31:38.277465Z"
    }
   },
   "outputs": [
    {
     "name": "stderr",
     "output_type": "stream",
     "text": [
      "/Users/sebastiaanvergunst/anaconda3/envs/text_mining/lib/python3.7/site-packages/gensim/models/doc2vec.py:574: UserWarning: The parameter `size` is deprecated, will be removed in 4.0.0, use `vector_size` instead.\n",
      "  warnings.warn(\"The parameter `size` is deprecated, will be removed in 4.0.0, use `vector_size` instead.\")\n"
     ]
    },
    {
     "name": "stdout",
     "output_type": "stream",
     "text": [
      "iteration 0\n"
     ]
    },
    {
     "name": "stderr",
     "output_type": "stream",
     "text": [
      "/Users/sebastiaanvergunst/anaconda3/envs/text_mining/lib/python3.7/site-packages/ipykernel_launcher.py:17: DeprecationWarning: Call to deprecated `iter` (Attribute will be removed in 4.0.0, use self.epochs instead).\n"
     ]
    },
    {
     "name": "stdout",
     "output_type": "stream",
     "text": [
      "iteration 1\n",
      "iteration 2\n",
      "iteration 3\n",
      "iteration 4\n",
      "iteration 5\n",
      "iteration 6\n",
      "iteration 7\n",
      "iteration 8\n",
      "iteration 9\n",
      "iteration 10\n",
      "iteration 11\n",
      "iteration 12\n",
      "iteration 13\n",
      "iteration 14\n",
      "iteration 15\n",
      "iteration 16\n",
      "iteration 17\n",
      "iteration 18\n",
      "iteration 19\n",
      "iteration 20\n",
      "iteration 21\n",
      "iteration 22\n",
      "iteration 23\n",
      "iteration 24\n",
      "iteration 25\n",
      "iteration 26\n",
      "iteration 27\n",
      "iteration 28\n",
      "iteration 29\n",
      "iteration 30\n",
      "iteration 31\n",
      "iteration 32\n",
      "iteration 33\n",
      "iteration 34\n",
      "iteration 35\n",
      "iteration 36\n",
      "iteration 37\n",
      "iteration 38\n",
      "iteration 39\n",
      "iteration 40\n",
      "iteration 41\n",
      "iteration 42\n",
      "iteration 43\n",
      "iteration 44\n",
      "iteration 45\n",
      "iteration 46\n",
      "iteration 47\n",
      "iteration 48\n",
      "iteration 49\n",
      "Model Saved\n"
     ]
    }
   ],
   "source": [
    "max_epochs = 50 #was 100 before\n",
    "vec_size = 20\n",
    "alpha = 0.025\n",
    "\n",
    "model = Doc2Vec(size=vec_size,\n",
    "                alpha=alpha, \n",
    "                min_alpha=0.00025,\n",
    "                min_count=1,\n",
    "                dm =0) #changing dm to dm=0 will make it use BoW approach)\n",
    "  \n",
    "model.build_vocab(tagged_data)\n",
    "\n",
    "for epoch in range(max_epochs):\n",
    "    print('iteration {0}'.format(epoch))\n",
    "    model.train(tagged_data,\n",
    "                total_examples=model.corpus_count,\n",
    "                epochs=model.iter)\n",
    "    model.alpha -= 0.0002\n",
    "    model.min_alpha = model.alpha\n",
    "\n",
    "model.save(\"d2v.model\")\n",
    "print(\"Model Saved\")"
   ]
  },
  {
   "cell_type": "code",
   "execution_count": 166,
   "metadata": {
    "ExecuteTime": {
     "end_time": "2020-03-04T20:29:20.792746Z",
     "start_time": "2020-03-04T20:29:18.160983Z"
    },
    "scrolled": false
   },
   "outputs": [
    {
     "name": "stdout",
     "output_type": "stream",
     "text": [
      "actor id: nm0835758 \n",
      "movies played in: ['X-Men 2']    \n",
      "Similarity: 0.9422240853309631 \n",
      "\n",
      "actor id: nm4446467 \n",
      "movies played in: ['Scouts Guide to the Zombie Apocalypse', 'Dark Places', 'The Yellow Birds', 'Ready Player One', 'X-Men: Apocalypse']    \n",
      "Similarity: 0.9267494678497314 \n",
      "\n",
      "actor id: nm7093076 \n",
      "movies played in: ['Deadly Class', 'To All the Boys: Always and Forever, Lara Jean', 'Patriots Day', 'Alita: Battle Angel', 'To All the Boys: P.S. I Still Love You', \"To All the Boys I've Loved Before\", 'X-Men: Apocalypse']    \n",
      "Similarity: 0.921867847442627 \n",
      "\n",
      "actor id: nm1546300 \n",
      "movies played in: ['Rock of Ages', 'Scream Queens', 'Before I Fall', 'Terminator: Dark Fate']    \n",
      "Similarity: 0.9080660343170166 \n",
      "\n",
      "actor id: nm10761387 \n",
      "movies played in: ['Terminator: Dark Fate']    \n",
      "Similarity: 0.9045665264129639 \n",
      "\n",
      "actor id: nm6353378 \n",
      "movies played in: ['Terminator: Dark Fate']    \n",
      "Similarity: 0.904315710067749 \n",
      "\n",
      "actor id: nm0721376 \n",
      "movies played in: ['Running with the Devil', 'Terminator: Dark Fate']    \n",
      "Similarity: 0.900327205657959 \n",
      "\n",
      "actor id: nm1890981 \n",
      "movies played in: ['Terminator: Dark Fate', 'True Detective']    \n",
      "Similarity: 0.896836519241333 \n",
      "\n",
      "actor id: nm1404239 \n",
      "movies played in: ['Kick-Ass', 'X-Men: Days of Future Past', 'Sleepover', 'Invasion', 'American Horror Story', 'X-Men: Apocalypse']    \n",
      "Similarity: 0.8965851068496704 \n",
      "\n",
      "actor id: nm2890541 \n",
      "movies played in: ['The Pacific', 'X-Men: Days of Future Past', 'Wayward Pines', 'Mad Max: Fury Road', 'X-Men: Apocalypse']    \n",
      "Similarity: 0.8888357877731323 \n",
      "\n",
      "actor id: nm0396558 \n",
      "movies played in: ['Mission: Impossible 7', 'X-Men: First Class', 'X-Men: Days of Future Past', 'Jack the Giant Slayer', 'Watership Down', 'Newness', 'Warm Bodies', 'About a Boy', 'A Single Man', 'Dark Places', 'Young Ones', 'Rebel in the Rye', 'Mad Max: Fury Road', 'True History of the Kelly Gang', 'Those Who Wish Me Dead', 'Tolkien', 'X-Men: Apocalypse']    \n",
      "Similarity: 0.8885728120803833 \n",
      "\n",
      "actor id: nm0271965 \n",
      "movies played in: ['Sonic the Hedgehog', 'Gears 5']    \n",
      "Similarity: 0.8879743218421936 \n",
      "\n",
      "actor id: nm3849842 \n",
      "movies played in: ['Game of Thrones', 'Survive', 'X-Men: Apocalypse']    \n",
      "Similarity: 0.8851554989814758 \n",
      "\n",
      "actor id: nm0126021 \n",
      "movies played in: ['Gears 5']    \n",
      "Similarity: 0.8825880885124207 \n",
      "\n",
      "actor id: nm0416508 \n",
      "movies played in: ['Resident Evil: The Final Chapter', 'Origin', 'Terminator: Dark Fate']    \n",
      "Similarity: 0.882546603679657 \n",
      "\n",
      "actor id: nm3740082 \n",
      "movies played in: ['Gears 5']    \n",
      "Similarity: 0.8801506757736206 \n",
      "\n",
      "actor id: nm8008890 \n",
      "movies played in: ['Gears 5']    \n",
      "Similarity: 0.8788473010063171 \n",
      "\n",
      "actor id: nm11086752 \n",
      "movies played in: ['Terminator: Dark Fate']    \n",
      "Similarity: 0.8782594203948975 \n",
      "\n",
      "actor id: nm0880554 \n",
      "movies played in: ['Lucía y el sexo', 'Snatch', 'Terminator: Dark Fate']    \n",
      "Similarity: 0.8782435655593872 \n",
      "\n",
      "actor id: nm0033550 \n",
      "movies played in: ['Terminator: Dark Fate', 'La Casa de Papel']    \n",
      "Similarity: 0.8768846988677979 \n",
      "\n",
      "actor id: nm1395771 \n",
      "movies played in: ['Monster Trucks', 'Hannah Montana: The Movie', 'Wolves', 'The Disappointments Room', 'X-Men: Apocalypse']    \n",
      "Similarity: 0.8765503168106079 \n",
      "\n",
      "actor id: nm0000157 \n",
      "movies played in: [\"Dante's Peak\", 'Children of the Corn', 'Terminator: Dark Fate']    \n",
      "Similarity: 0.8758582472801208 \n",
      "\n",
      "actor id: nm7978223 \n",
      "movies played in: ['Terminator: Dark Fate']    \n",
      "Similarity: 0.8720435500144958 \n",
      "\n",
      "actor id: nm5228887 \n",
      "movies played in: ['6 Underground', 'X-Men: Apocalypse']    \n",
      "Similarity: 0.8667243719100952 \n",
      "\n",
      "actor id: nm2800616 \n",
      "movies played in: ['Edge of Tomorrow']    \n",
      "Similarity: 0.8619543313980103 \n",
      "\n",
      "actor id: nm2166833 \n",
      "movies played in: ['Gears 5']    \n",
      "Similarity: 0.8586570024490356 \n",
      "\n",
      "actor id: nm2875966 \n",
      "movies played in: ['X-Men: First Class']    \n",
      "Similarity: 0.8569179177284241 \n",
      "\n",
      "actor id: nm0220808 \n",
      "movies played in: ['Gears 5']    \n",
      "Similarity: 0.8544080257415771 \n",
      "\n",
      "actor id: nm6757762 \n",
      "movies played in: ['Gears 5']    \n",
      "Similarity: 0.8535773158073425 \n",
      "\n",
      "actor id: nm0851317 \n",
      "movies played in: ['The Owl House', 'Enchanted', 'Star vs. de Kracht van het Kwaad', 'Trollhunters', 'Green Eggs and Ham', 'Ben 10', 'TMNT', '3Below: Tales of Arcadia', '9', 'Injustice 2', 'Gears 5', 'Titanfall 2', 'Ask the StoryBots']    \n",
      "Similarity: 0.8508300185203552 \n",
      "\n",
      "actor id: nm2024644 \n",
      "movies played in: ['X-Men Origins: Wolverine', 'The Wheel of Time', 'Big Hero 6']    \n",
      "Similarity: 0.8505706191062927 \n",
      "\n",
      "actor id: nm2621030 \n",
      "movies played in: ['Legends of Tomorrow', 'See', 'Edge of Tomorrow']    \n",
      "Similarity: 0.8505440950393677 \n",
      "\n",
      "actor id: nm0797464 \n",
      "movies played in: ['Justice', 'The Sopranos']    \n",
      "Similarity: 0.849372386932373 \n",
      "\n",
      "actor id: nm1682733 \n",
      "movies played in: ['X-Men: First Class']    \n",
      "Similarity: 0.8484846949577332 \n",
      "\n",
      "actor id: nm0597480 \n",
      "movies played in: ['X-Men Origins: Wolverine', 'Lost']    \n",
      "Similarity: 0.8473150134086609 \n",
      "\n",
      "actor id: nm7240335 \n",
      "movies played in: ['Justice']    \n",
      "Similarity: 0.8472219109535217 \n",
      "\n",
      "actor id: nm7545654 \n",
      "movies played in: ['Justice']    \n",
      "Similarity: 0.8458778858184814 \n",
      "\n",
      "actor id: nm5602325 \n",
      "movies played in: ['Briarpatch', 'Those Who Wish Me Dead', 'Justice']    \n",
      "Similarity: 0.8443621397018433 \n",
      "\n",
      "actor id: nm2931989 \n",
      "movies played in: ['X-Men Origins: Wolverine']    \n",
      "Similarity: 0.8406505584716797 \n",
      "\n",
      "actor id: nm10240631 \n",
      "movies played in: ['Justice']    \n",
      "Similarity: 0.8383851647377014 \n",
      "\n",
      "actor id: nm2495590 \n",
      "movies played in: ['Justice']    \n",
      "Similarity: 0.8371496200561523 \n",
      "\n",
      "actor id: nm1150775 \n",
      "movies played in: ['Godzilla', 'Kim Possible']    \n",
      "Similarity: 0.8349798321723938 \n",
      "\n",
      "actor id: nm0348748 \n",
      "movies played in: ['Speed Racer', 'Buffalo Soldiers', 'Edge of Tomorrow']    \n",
      "Similarity: 0.830416738986969 \n",
      "\n",
      "actor id: nm4590758 \n",
      "movies played in: ['Gears 5']    \n",
      "Similarity: 0.8301838636398315 \n",
      "\n",
      "actor id: nm3758887 \n",
      "movies played in: ['The Wolverine']    \n",
      "Similarity: 0.829800546169281 \n",
      "\n"
     ]
    }
   ],
   "source": [
    "model= Doc2Vec.load(\"d2v.model\")\n",
    "\n",
    "#using deadpool(1) as test case\n",
    "test_data = word_tokenize(\"\"\"In Nazi-occupied Poland, in 1944, young Erik Lehnsherr is separated from his parents upon entering the Auschwitz concentration camp. While trying to reach them, he causes a set of metal gates to bend towards him as the result of his mutant ability to create magnetic fields and control metal manifesting, only to be knocked out by the guards.In the not too distant future, U.S. Senator Robert Kelly attempts to pass a \"Mutant Registration Act\" in Congress, which would force mutants to publicly reveal their identities and abilities. Present are Lehnsherr, now going by the name \"Magneto\", and his telepathic colleague Professor Charles Xavier. Seeing Lehnsherr in attendance, Xavier becomes concerned with how he will respond to the Registration Act.\n",
    "\n",
    "Meanwhile, in Meridian, Mississippi, 17-year-old Marie D'Ancanto accidentally puts her boyfriend into a coma upon kissing him as the result of her mutant ability to absorb the powers and life force of others. She runs away from home and adopts the name Rogue. In Alberta, she meets Logan, also known as Wolverine, a mutant who possesses superhuman healing abilities and metal \"claws\" that protrude from between his knuckles. While on the road together, they are attacked by a minion of Magneto's, Sabretooth, until two of Xavier's teachers – Cyclops and Storm – arrive and save them. Wolverine and Rogue are brought to Xavier's mansion and school for mutants in Westchester County, New York. Xavier tells Logan that Magneto appears to have taken an interest in Wolverine and asks him to stay while Xavier's mutants, the X-Men, investigate the matter. Meanwhile, Rogue enrolls in the school.\n",
    "\n",
    "Senator Kelly is abducted by two more of Magneto's minions, Toad and Mystique, and is brought to their hideout on the uncharted island of Genosha. There, Magneto uses Kelly as a test subject for a machine powered by his magnetic abilities that generates a field of radiation, inducing mutation in normal humans. Kelly later escapes by taking advantage of his newfound mutation. Rogue visits Wolverine during the night while he is having a nightmare; however, he accidentally stabs her once startled, but Rogue is able to absorb his healing ability to recover, which other students witness, having arrived to help. She is later convinced by Mystique, who disguises herself as Rogue's crush Bobby Drake, that Xavier is angry with her and she should leave the school. Xavier uses his mutant-locating machine Cerebro to find Rogue at a train station, and the X-Men go to retrieve her. Meanwhile, Mystique enters Cerebro and sabotages it.\n",
    "\n",
    "Having left ahead of Storm and Cyclops, Wolverine finds Rogue on a train and convinces her to return to the school. Before they can leave, Magneto arrives, knocks out Wolverine and subdues Rogue, revealing it was Rogue who he wants rather than Wolverine. Although Xavier attempts to stop Magneto by mentally controlling Sabretooth, he is forced to release his hold on Sabretooth when Magneto threatens the police who have converged on the train station, allowing Magneto's Brotherhood to escape with Rogue. Kelly arrives at Xavier's school, and Xavier reads his mind to learn about Magneto's machine. Realizing the strain of powering it nearly killed Magneto, the group deduces he intends to transfer his powers to Rogue and use her to power it at the cost of her life. Kelly's body rejects his mutation, and his body dissolves into liquid. Xavier attempts to locate Rogue using Cerebro, but Mystique's sabotage incapacitates him, and he falls into a coma. Fellow telekinetic and telepath Jean Grey fixes Cerebro and uses it, learning that Magneto plans to place his mutation-inducing machine on Liberty Island and use it to \"mutate\" the world leaders meeting at a summit on nearby Ellis Island. The X-Men scale the Statue of Liberty, battling and overpowering the Brotherhood while Magneto transfers his powers to Rogue and activates the mutating machine. As Wolverine confronts and distracts Magneto, Cyclops blasts him away, allowing Wolverine to destroy the machine. He transfers his powers to Rogue and his healing abilities rejuvenate her, while incapacitating himself.\n",
    "\n",
    "Professor Xavier and Wolverine recover from their comas. The group also learns that Mystique escaped the island battle and is impersonating Senator Kelly. Xavier gives Wolverine a lead to his past at an abandoned military installation in Canada. Magneto is imprisoned in a complex constructed of plastic and is visited by Xavier, and Magneto warns him he intends to escape one day and continue the fight.\n",
    "\"\"\".lower())\n",
    "\n",
    "\n",
    "# find all similair movie plots\n",
    "similar_actor = model.docvecs.most_similar(positive=[model.infer_vector(test_data)],topn=50)\n",
    "for doc, perc in similar_actor:\n",
    "    if 'X-Men' not in actors_dictionary[actors_df.iloc[int(doc)]['actor_id']]:\n",
    "        print('actor id:',actors_df.iloc[int(doc)]['actor_id'] ,'\\nmovies played in:', actors_dictionary[actors_df.iloc[int(doc)]['actor_id']], '   \\nSimilarity:', perc , '\\n')\n",
    "#     print('summary: ' , actors_df.iloc[int(doc)]['info_json']['Plot'], '\\n')"
   ]
  },
  {
   "cell_type": "code",
   "execution_count": null,
   "metadata": {
    "collapsed": true
   },
   "outputs": [],
   "source": []
  }
 ],
 "metadata": {
  "kernelspec": {
   "display_name": "Python 3",
   "language": "python",
   "name": "python3"
  },
  "language_info": {
   "codemirror_mode": {
    "name": "ipython",
    "version": 3
   },
   "file_extension": ".py",
   "mimetype": "text/x-python",
   "name": "python",
   "nbconvert_exporter": "python",
   "pygments_lexer": "ipython3",
   "version": "3.7.6"
  },
  "toc": {
   "base_numbering": 1,
   "nav_menu": {},
   "number_sections": true,
   "sideBar": true,
   "skip_h1_title": false,
   "title_cell": "Table of Contents",
   "title_sidebar": "Contents",
   "toc_cell": false,
   "toc_position": {},
   "toc_section_display": true,
   "toc_window_display": false
  }
 },
 "nbformat": 4,
 "nbformat_minor": 2
}
