{
 "cells": [
  {
   "cell_type": "markdown",
   "metadata": {},
   "source": [
    "# Lab4a-Assignment about NERC\n",
    "\n",
    "This notebook describes Assignment 3, which is part of Lab 3 of the text mining course. \n",
    "\n",
    "\n",
    "**Learning goals**\n",
    "* going from linguistic input format to representing it in a feature space\n",
    "* working with pretrained word embeddings\n",
    "* train a supervised classifier (SVM)\n",
    "* evaluate a supervised classifier (SVM)\n",
    "* perform feature ablation and gain insight into the contribution of various features\n",
    "\n",
    "We assume you have worked through the following notebook:\n",
    "* **Lab3-Supervised NERC system.ipynb**"
   ]
  },
  {
   "cell_type": "markdown",
   "metadata": {},
   "source": [
    "## Credits\n",
    "The notebooks in this block have been originally created by [Marten Postma](https://martenpostma.github.io) and have been notably extended by [Filip Ilievski](http://ilievski.nl)."
   ]
  },
  {
   "cell_type": "markdown",
   "metadata": {},
   "source": [
    "## [Points: 6] Exercise 1: Exercise 1: NER and NERC definitions\n",
    "* **[2 points] a) Explain what NER is**\n",
    "* **[2 points] b) Explain what NERC is**\n",
    "* **[2 points] c) Explain what the IOB format is and how it represents both the NER and NERC task.**\n",
    "\n",
    "a) Named Entity Recognition - Finding named entities in a text  \n",
    "b) Named Entity Recognition Classification - Classifying the named entities in a category like: Location, Person, Date etc.  \n",
    "c) It is a way of labeling the tokens from a text. A token can be labeled as Inside-Outside-Beginning, meaning the token is inside, outside or at the beginning of an interpretation.  "
   ]
  },
  {
   "cell_type": "markdown",
   "metadata": {},
   "source": [
    "## [Points: 20] Exercise 2: Training and evaluating an SVM using CoNLL-2003"
   ]
  },
  {
   "cell_type": "markdown",
   "metadata": {},
   "source": [
    "**[4 point] a) Load the CoNLL-2003 training data using the *ConllCorpusReader* and create for both *train.txt* and *test.txt*:**\n",
    "\n",
    "    [2 points]  -a list of dictionaries representing the features for each training instances, e..g,\n",
    "    ```\n",
    "    [\n",
    "    {'words': 'EU', 'pos': 'NNP'}, \n",
    "    {'words': 'rejects', 'pos': 'VBZ'},\n",
    "    ...\n",
    "    ]\n",
    "    ```\n",
    "\n",
    "    [2 points] -the NERC labels associated with each training instance, e.g.,\n",
    "    dictionaries, e.g.,\n",
    "    ```\n",
    "    [\n",
    "    'B-ORG', \n",
    "    'O',\n",
    "    ....\n",
    "    ]\n",
    "    ```"
   ]
  },
  {
   "cell_type": "code",
   "execution_count": 116,
   "metadata": {
    "ExecuteTime": {
     "end_time": "2020-02-27T11:56:03.161988Z",
     "start_time": "2020-02-27T11:56:01.660949Z"
    },
    "collapsed": true,
    "scrolled": true
   },
   "outputs": [],
   "source": [
    "from nltk.corpus.reader import ConllCorpusReader\n",
    "### Adapt the path to point to the nerc_datasets folder on your local machine\n",
    "train = ConllCorpusReader('/Users/sebastiaanvergunst/Desktop/Text Mining/text-mining-ba-master/lab_sessions/lab4/data/nerc_datasets/CONLL2003', 'train.txt', ['words', 'pos', 'ignore', 'chunk'])\n",
    "training_features = []\n",
    "training_gold_labels = []\n",
    "\n",
    "for token, pos, ne_label in train.iob_words():\n",
    "    a_dict = {\n",
    "       'words': token, 'pos': pos\n",
    "    }\n",
    "    training_features.append(a_dict)\n",
    "    training_gold_labels.append(ne_label)"
   ]
  },
  {
   "cell_type": "code",
   "execution_count": 117,
   "metadata": {
    "ExecuteTime": {
     "end_time": "2020-02-27T11:56:04.166804Z",
     "start_time": "2020-02-27T11:56:03.689033Z"
    },
    "collapsed": true
   },
   "outputs": [],
   "source": [
    "### Adapt the path to point to the NERC_datasets folder on your local machine\n",
    "test_features = []\n",
    "test_gold_labels = []\n",
    "for token, pos, ne_label in train.iob_words():\n",
    "    a_dict = {\n",
    "       'words': token, 'pos': pos\n",
    "    }\n",
    "    test_features.append(a_dict)\n",
    "    test_gold_labels.append(ne_label)"
   ]
  },
  {
   "cell_type": "markdown",
   "metadata": {},
   "source": [
    "**[2 points] b) provide descriptive statistics about the training and test data:**\n",
    "* How many instances are in train and test?\n",
    "* Provide a frequency distribution of the NERC labels, i.e., how many times does each NERC label occur?\n",
    "* Discuss to what extent the training and test data is balanced (equal amount of instances for each NERC label) and to what extent the training and test data differ?\n",
    "\n",
    "Tip: you can use the following `Counter` functionality to generate frequency list of a list:"
   ]
  },
  {
   "cell_type": "code",
   "execution_count": 129,
   "metadata": {
    "ExecuteTime": {
     "end_time": "2020-02-27T12:03:21.714765Z",
     "start_time": "2020-02-27T12:03:21.192947Z"
    }
   },
   "outputs": [
    {
     "name": "stdout",
     "output_type": "stream",
     "text": [
      "Items in train set: 203621   Percentage: 0.8143015964423969\n",
      "Items in test set: 46435   Percentage: 0.1856984035576031\n",
      "Ratio Train/Test: 4.385075912565952 \n",
      "\n",
      "B-ORG\n",
      "Training: 6321 \t\t\tPercentage: 0.03104296708099852\n",
      "Test: 1661 \t\t\tPercentage: 0.03577043178636804\n",
      "ratio Training/Test: 3.805538832028898 \n",
      "\n",
      "O\n",
      "Training: 169578 \t\t\tPercentage: 0.832811939829389\n",
      "Test: 38323 \t\t\tPercentage: 0.8253041886508022\n",
      "ratio Training/Test: 4.424966730162044 \n",
      "\n",
      "B-MISC\n",
      "Training: 3438 \t\t\tPercentage: 0.016884309575142052\n",
      "Test: 702 \t\t\tPercentage: 0.015117906751372886\n",
      "ratio Training/Test: 4.897435897435898 \n",
      "\n",
      "B-PER\n",
      "Training: 6600 \t\t\tPercentage: 0.0324131597428556\n",
      "Test: 1617 \t\t\tPercentage: 0.03482287067944438\n",
      "ratio Training/Test: 4.081632653061225 \n",
      "\n",
      "I-PER\n",
      "Training: 4528 \t\t\tPercentage: 0.022237392017522752\n",
      "Test: 1156 \t\t\tPercentage: 0.0248950145364488\n",
      "ratio Training/Test: 3.916955017301038 \n",
      "\n",
      "B-LOC\n",
      "Training: 7140 \t\t\tPercentage: 0.03506514553999833\n",
      "Test: 1668 \t\t\tPercentage: 0.03592118014428771\n",
      "ratio Training/Test: 4.280575539568345 \n",
      "\n",
      "I-ORG\n",
      "Training: 3704 \t\t\tPercentage: 0.018190658134475325\n",
      "Test: 835 \t\t\tPercentage: 0.017982125551846667\n",
      "ratio Training/Test: 4.435928143712575 \n",
      "\n",
      "I-MISC\n",
      "Training: 1155 \t\t\tPercentage: 0.00567230295499973\n",
      "Test: 216 \t\t\tPercentage: 0.004651663615807042\n",
      "ratio Training/Test: 5.347222222222222 \n",
      "\n",
      "I-LOC\n",
      "Training: 1157 \t\t\tPercentage: 0.005682125124618777\n",
      "Test: 257 \t\t\tPercentage: 0.005534618283622268\n",
      "ratio Training/Test: 4.501945525291829 \n",
      "\n",
      "dict_keys(['O', 'B-LOC', 'B-PER', 'I-PER', 'I-LOC', 'B-MISC', 'I-MISC', 'B-ORG', 'I-ORG'])\n"
     ]
    },
    {
     "data": {
      "image/png": "[encoded data removed]",
      "text/plain": [
       "<Figure size 432x288 with 1 Axes>"
      ]
     },
     "metadata": {},
     "output_type": "display_data"
    },
    {
     "data": {
      "image/png": "[encoded data removed]",
      "text/plain": [
       "<Figure size 432x288 with 1 Axes>"
      ]
     },
     "metadata": {},
     "output_type": "display_data"
    }
   ],
   "source": [
    "from collections import Counter \n",
    "import numpy as np\n",
    "import matplotlib.pyplot as plt\n",
    "\n",
    "train_size = len(training_features)\n",
    "test_size = len(test_features)\n",
    "\n",
    "print('Items in train set:', train_size, '  Percentage:', train_size/(train_size + test_size))\n",
    "print('Items in test set:', test_size, '  Percentage:', test_size/(train_size + test_size))\n",
    "print('Ratio Train/Test:', train_size/test_size, '\\n')\n",
    "\n",
    "count_train = Counter(training_gold_labels)\n",
    "count_test  = Counter(test_gold_labels)\n",
    "\n",
    "for i in count_train.keys():\n",
    "    print(i)\n",
    "    print('Training:', count_train[i], '\\t\\t\\tPercentage:', count_train[i]/train_size)\n",
    "    print('Test:', count_test[i], '\\t\\t\\tPercentage:', count_test[i]/test_size)\n",
    "    print('ratio Training/Test:', count_train[i]/count_test[i], '\\n')\n",
    "\n",
    "\n",
    "def print_counter(counter):\n",
    "    labels, values = zip(*counter.items())\n",
    "\n",
    "    indexes = np.arange(len(labels))\n",
    "    width = 1\n",
    "\n",
    "    plt.bar(indexes, values, width)\n",
    "    plt.xticks(indexes , labels)\n",
    "    plt.show()\n",
    "    \n",
    "\n",
    "print_counter(count_train)\n",
    "print_counter(count_test)\n"
   ]
  },
  {
   "cell_type": "markdown",
   "metadata": {},
   "source": [
    "- We have a train-test split of 81,4% against 18,6%.\n",
    "- There is a big class imbalance in the data, where the 'O' category is overpopulated.\n",
    "- The test and train set both have a large overpopulation of the 'O' category and other categories are similair with some slight differences. Normally this would be reduced by using a stratified split."
   ]
  },
  {
   "cell_type": "markdown",
   "metadata": {},
   "source": [
    "**[2 points] c. Explain what one hot encoding is. Explain why we can not use string features to train the SVM.**\n",
    "\n",
    "- One hot encoding is a way to represent categorical features in the same vector, where an index of that vector represents to a category of the features. Multiple one-hot encoded features can be combined into one vector which can be used for training. SVM does only work with numerical data and not with categorical data."
   ]
  },
  {
   "cell_type": "markdown",
   "metadata": {},
   "source": [
    "**[2 points] d. Concatenate the train and test features (the list of dictionaries) into one list. Load it using the *DictVectorizer*. Afterwards, split it back to training and test.**\n",
    "\n",
    "Tip: You’ve concatenated train and test into one list and then you’ve applied the DictVectorizer.\n",
    "The order of the rows is maintained. You can hence use an index (number of training instances) to split the_array back into train and test. Do NOT use: `\n",
    "from sklearn.model_selection import train_test_split` here.\n"
   ]
  },
  {
   "cell_type": "code",
   "execution_count": 85,
   "metadata": {
    "ExecuteTime": {
     "end_time": "2020-02-25T20:40:06.923608Z",
     "start_time": "2020-02-25T20:40:06.920055Z"
    },
    "collapsed": true
   },
   "outputs": [],
   "source": [
    "from sklearn.feature_extraction import DictVectorizer"
   ]
  },
  {
   "cell_type": "code",
   "execution_count": 86,
   "metadata": {
    "ExecuteTime": {
     "end_time": "2020-02-25T20:40:07.948836Z",
     "start_time": "2020-02-25T20:40:07.274848Z"
    },
    "collapsed": true
   },
   "outputs": [],
   "source": [
    "vec = DictVectorizer()\n",
    "the_array = vec.fit_transform(training_features + test_features)\n",
    "\n",
    "training = the_array[:len(training_features)]\n",
    "test = the_array[len(training_features):]"
   ]
  },
  {
   "cell_type": "markdown",
   "metadata": {},
   "source": [
    "**[4 points] e. Train the SVM using the train features and labels and evaluate on the test data. Provide a classification report (sklearn.metrics.classification_report).**\n",
    "The train (*lin_clf.fit*) might take a while. On my computer, it took 1min 53s, which is acceptable. Training models normally takes much longer. If it takes more than 5 minutes, you can use a subset for training. Describe the results:\n",
    "* Which NERC labels does the classifier perform well on? Why do you think this is the case?\n",
    "* Which NERC labels does the classifier perform poorly on? Why do you think this is the case?"
   ]
  },
  {
   "cell_type": "code",
   "execution_count": 13,
   "metadata": {
    "ExecuteTime": {
     "end_time": "2020-03-04T10:57:39.270315Z",
     "start_time": "2020-03-04T10:57:39.260700Z"
    }
   },
   "outputs": [],
   "source": [
    "from sklearn import svm\n",
    "from sklearn.metrics import classification_report\n",
    "from sklearn.model_selection import GridSearchCV\n",
    "from sklearn.pipeline import make_pipeline"
   ]
  },
  {
   "cell_type": "code",
   "execution_count": 88,
   "metadata": {
    "ExecuteTime": {
     "end_time": "2020-02-25T20:50:03.844439Z",
     "start_time": "2020-02-25T20:40:11.972516Z"
    }
   },
   "outputs": [
    {
     "name": "stderr",
     "output_type": "stream",
     "text": [
      "/Users/sebastiaanvergunst/anaconda3/lib/python3.6/site-packages/sklearn/svm/_base.py:947: ConvergenceWarning: Liblinear failed to converge, increase the number of iterations.\n",
      "  \"the number of iterations.\", ConvergenceWarning)\n"
     ]
    }
   ],
   "source": [
    "pipe = make_pipeline(svm.LinearSVC())\n",
    "param_grid = {'linearsvc__C': [100]}\n",
    "grid_svc = GridSearchCV(pipe, param_grid, cv=3).fit(training, training_gold_labels)"
   ]
  },
  {
   "cell_type": "code",
   "execution_count": 89,
   "metadata": {
    "ExecuteTime": {
     "end_time": "2020-02-25T20:50:04.179335Z",
     "start_time": "2020-02-25T20:50:03.847091Z"
    }
   },
   "outputs": [
    {
     "name": "stdout",
     "output_type": "stream",
     "text": [
      "              precision    recall  f1-score   support\n",
      "\n",
      "       B-LOC       0.80      0.79      0.79      1668\n",
      "      B-MISC       0.76      0.67      0.71       702\n",
      "       B-ORG       0.80      0.52      0.63      1661\n",
      "       B-PER       0.85      0.45      0.59      1617\n",
      "       I-LOC       0.62      0.54      0.57       257\n",
      "      I-MISC       0.56      0.58      0.57       216\n",
      "       I-ORG       0.70      0.47      0.57       835\n",
      "       I-PER       0.33      0.85      0.48      1156\n",
      "           O       0.99      0.99      0.99     38323\n",
      "\n",
      "    accuracy                           0.92     46435\n",
      "   macro avg       0.71      0.65      0.66     46435\n",
      "weighted avg       0.94      0.92      0.92     46435\n",
      "\n"
     ]
    }
   ],
   "source": [
    "print(classification_report(test_gold_labels, grid_svc.predict(test)))"
   ]
  },
  {
   "cell_type": "markdown",
   "metadata": {},
   "source": [
    "**[6 points] f. Train a model that uses the embeddings of these words as inputs. Test again on the same data as in 2e. Generate a classification report and compare the results with the classifier you built in 2e.**"
   ]
  },
  {
   "cell_type": "code",
   "execution_count": 7,
   "metadata": {
    "ExecuteTime": {
     "end_time": "2020-03-04T10:53:24.767664Z",
     "start_time": "2020-03-04T10:52:04.831363Z"
    }
   },
   "outputs": [],
   "source": [
    "import gensim\n",
    "word_embedding_model = gensim.models.KeyedVectors.load_word2vec_format('/Users/sebastiaanvergunst/Desktop/Text Mining/text-mining-ba-master/lab_sessions/lab2/data/model/GoogleNews-vectors-negative300.bin', binary=True)  "
   ]
  },
  {
   "cell_type": "code",
   "execution_count": 11,
   "metadata": {
    "ExecuteTime": {
     "end_time": "2020-03-04T10:57:00.544222Z",
     "start_time": "2020-03-04T10:57:00.323353Z"
    }
   },
   "outputs": [],
   "source": [
    "import spacy\n",
    "nlp = spacy.load('en_core_web_sm')\n",
    "\n",
    "def get_w2v(word, word_embedding_model):\n",
    "    if word in word_embedding_model:\n",
    "        vector=word_embedding_model[word]\n",
    "    else: \n",
    "        vector=[0]*300\n",
    "    return vector"
   ]
  },
  {
   "cell_type": "code",
   "execution_count": 12,
   "metadata": {
    "ExecuteTime": {
     "end_time": "2020-03-04T10:57:05.596426Z",
     "start_time": "2020-03-04T10:57:01.183683Z"
    }
   },
   "outputs": [],
   "source": [
    "from nltk.corpus.reader import ConllCorpusReader\n",
    "### Adapt the path to point to the nerc_datasets folder on your local machine\n",
    "train = ConllCorpusReader('/Users/sebastiaanvergunst/Desktop/Text Mining/text-mining-ba-master/lab_sessions/lab4/data/nerc_datasets/CONLL2003', 'train.txt', ['words', 'pos', 'ignore', 'chunk'])\n",
    "training_features = []\n",
    "training_gold_labels = []\n",
    "test_features = []\n",
    "test_gold_labels = []\n",
    "\n",
    "for token, pos, ne_label in train.iob_words():\n",
    "    training_features.append(get_w2v(token, word_embedding_model))\n",
    "    training_gold_labels.append(ne_label)\n",
    "\n",
    "for token, pos, ne_label in train.iob_words():\n",
    "    test_features.append(get_w2v(token, word_embedding_model))\n",
    "    test_gold_labels.append(ne_label)\n"
   ]
  },
  {
   "cell_type": "code",
   "execution_count": 14,
   "metadata": {
    "ExecuteTime": {
     "end_time": "2020-03-04T11:48:25.208234Z",
     "start_time": "2020-03-04T10:58:00.831557Z"
    }
   },
   "outputs": [
    {
     "name": "stderr",
     "output_type": "stream",
     "text": [
      "/Users/sebastiaanvergunst/anaconda3/envs/text_mining/lib/python3.7/site-packages/sklearn/svm/base.py:929: ConvergenceWarning: Liblinear failed to converge, increase the number of iterations.\n",
      "  \"the number of iterations.\", ConvergenceWarning)\n",
      "/Users/sebastiaanvergunst/anaconda3/envs/text_mining/lib/python3.7/site-packages/sklearn/svm/base.py:929: ConvergenceWarning: Liblinear failed to converge, increase the number of iterations.\n",
      "  \"the number of iterations.\", ConvergenceWarning)\n",
      "/Users/sebastiaanvergunst/anaconda3/envs/text_mining/lib/python3.7/site-packages/sklearn/svm/base.py:929: ConvergenceWarning: Liblinear failed to converge, increase the number of iterations.\n",
      "  \"the number of iterations.\", ConvergenceWarning)\n",
      "/Users/sebastiaanvergunst/anaconda3/envs/text_mining/lib/python3.7/site-packages/sklearn/svm/base.py:929: ConvergenceWarning: Liblinear failed to converge, increase the number of iterations.\n",
      "  \"the number of iterations.\", ConvergenceWarning)\n"
     ]
    }
   ],
   "source": [
    "pipe = make_pipeline(svm.LinearSVC())\n",
    "param_grid = {'linearsvc__C': [100]}\n",
    "grid_svc = GridSearchCV(pipe, param_grid, cv=3).fit(training_features, training_gold_labels)"
   ]
  },
  {
   "cell_type": "code",
   "execution_count": 15,
   "metadata": {
    "ExecuteTime": {
     "end_time": "2020-03-04T11:48:28.424227Z",
     "start_time": "2020-03-04T11:48:25.210526Z"
    }
   },
   "outputs": [
    {
     "name": "stdout",
     "output_type": "stream",
     "text": [
      "              precision    recall  f1-score   support\n",
      "\n",
      "       B-LOC       0.80      0.80      0.80      7140\n",
      "      B-MISC       0.76      0.67      0.71      3438\n",
      "       B-ORG       0.68      0.56      0.61      6321\n",
      "       B-PER       0.76      0.70      0.73      6600\n",
      "       I-LOC       0.65      0.50      0.57      1157\n",
      "      I-MISC       0.70      0.30      0.42      1155\n",
      "       I-ORG       0.60      0.39      0.47      3704\n",
      "       I-PER       0.59      0.59      0.59      4528\n",
      "           O       0.97      1.00      0.98    169578\n",
      "\n",
      "    accuracy                           0.93    203621\n",
      "   macro avg       0.72      0.61      0.65    203621\n",
      "weighted avg       0.93      0.93      0.93    203621\n",
      "\n"
     ]
    }
   ],
   "source": [
    "print(classification_report(test_gold_labels, grid_svc.predict(test_features)))"
   ]
  },
  {
   "cell_type": "markdown",
   "metadata": {},
   "source": [
    "## [Points: 14] Exercise 3: feature inspection using the [Annotated Corpus for Named Entity Recognition](https://www.kaggle.com/abhinavwalia95/entity-annotated-corpus)\n",
    "**[6 points] a. Perform the same steps as in the previous exercise. Make sure you end up for both the training part (*df_train*) and the test part (*df_test*) with:**\n",
    "* the features representation using **DictVectorizer**\n",
    "* the NERC labels in a list\n",
    "\n",
    "Please note that this is the same setup as in the previous exercise:\n",
    "* load both train and test using:\n",
    "    * list of dictionaries for features\n",
    "    * list of NERC labels\n",
    "* combine train and test features in a list and represent them using one hot encoding\n",
    "* train using the training features and NERC labels"
   ]
  },
  {
   "cell_type": "code",
   "execution_count": 65,
   "metadata": {
    "ExecuteTime": {
     "end_time": "2020-02-25T20:23:06.861055Z",
     "start_time": "2020-02-25T20:23:06.205892Z"
    },
    "collapsed": true
   },
   "outputs": [],
   "source": [
    "import pandas"
   ]
  },
  {
   "cell_type": "code",
   "execution_count": 66,
   "metadata": {
    "ExecuteTime": {
     "end_time": "2020-02-25T20:23:11.714132Z",
     "start_time": "2020-02-25T20:23:07.449897Z"
    }
   },
   "outputs": [
    {
     "name": "stderr",
     "output_type": "stream",
     "text": [
      "b'Skipping line 281837: expected 25 fields, saw 34\\n'\n"
     ]
    }
   ],
   "source": [
    "##### Adapt the path to point to your local copy of NERC_datasets\n",
    "path = '/Users/sebastiaanvergunst/Desktop/Text Mining/text-mining-ba-master/lab_sessions/lab4/data/nerc_datasets/kaggle/ner_v2.csv'\n",
    "kaggle_dataset = pandas.read_csv(path, error_bad_lines=False)"
   ]
  },
  {
   "cell_type": "code",
   "execution_count": 67,
   "metadata": {
    "ExecuteTime": {
     "end_time": "2020-02-25T20:23:15.708852Z",
     "start_time": "2020-02-25T20:23:15.702297Z"
    }
   },
   "outputs": [
    {
     "data": {
      "text/plain": [
       "1050795"
      ]
     },
     "execution_count": 67,
     "metadata": {},
     "output_type": "execute_result"
    }
   ],
   "source": [
    "len(kaggle_dataset)"
   ]
  },
  {
   "cell_type": "code",
   "execution_count": 68,
   "metadata": {
    "ExecuteTime": {
     "end_time": "2020-02-25T20:23:16.892185Z",
     "start_time": "2020-02-25T20:23:16.884894Z"
    }
   },
   "outputs": [
    {
     "name": "stdout",
     "output_type": "stream",
     "text": [
      "100000 20000\n"
     ]
    }
   ],
   "source": [
    "df_train = kaggle_dataset[:100000]\n",
    "df_test = kaggle_dataset[100000:120000]\n",
    "print(len(df_train), len(df_test))"
   ]
  },
  {
   "cell_type": "code",
   "execution_count": 149,
   "metadata": {
    "ExecuteTime": {
     "end_time": "2020-02-27T12:28:10.395650Z",
     "start_time": "2020-02-27T12:28:10.359355Z"
    }
   },
   "outputs": [],
   "source": [
    "def train_test(remove, df_train=df_train, df_test=df_test, training_labels = df_train['tag'], test_labels = df_test['tag']):\n",
    "    training_features = []\n",
    "    test_features = []\n",
    "    to_drop = ['id', 'sentence_idx', 'tag'] + remove\n",
    "    \n",
    "    training_labels = df_train['tag']\n",
    "    test_labels = df_test['tag']   \n",
    "    \n",
    "    df_train = df_train.drop(columns=to_drop)\n",
    "    df_test = df_test.drop(columns=to_drop)\n",
    "\n",
    "    for index, row in df_train.iterrows():\n",
    "        item = row.to_dict()\n",
    "        training_features.append(item)\n",
    "\n",
    "    for index, row in df_test.iterrows():\n",
    "        item = row.to_dict()\n",
    "        test_features.append(item)\n",
    "\n",
    "    vec = DictVectorizer()\n",
    "    the_array = vec.fit_transform(training_features + test_features)\n",
    "\n",
    "    training = the_array[:len(training_features)]\n",
    "    test = the_array[len(training_features):]\n",
    "    \n",
    "    return training, test, training_labels, test_labels"
   ]
  },
  {
   "cell_type": "markdown",
   "metadata": {},
   "source": [
    "**[4 points] b. Train and evaluate the model and provide the classification report:**\n",
    "* use the SVM to predict NERC labels on the test data\n",
    "* evaluate the performance of the SVM on the test data\n",
    "\n",
    "Analyze the performance per NERC label."
   ]
  },
  {
   "cell_type": "code",
   "execution_count": 154,
   "metadata": {
    "ExecuteTime": {
     "end_time": "2020-02-27T12:30:58.508207Z",
     "start_time": "2020-02-27T12:30:11.680720Z"
    }
   },
   "outputs": [
    {
     "name": "stderr",
     "output_type": "stream",
     "text": [
      "/Users/sebastiaanvergunst/anaconda3/lib/python3.6/site-packages/sklearn/svm/_base.py:947: ConvergenceWarning: Liblinear failed to converge, increase the number of iterations.\n",
      "  \"the number of iterations.\", ConvergenceWarning)\n",
      "/Users/sebastiaanvergunst/anaconda3/lib/python3.6/site-packages/sklearn/metrics/_classification.py:1268: UndefinedMetricWarning: Recall and F-score are ill-defined and being set to 0.0 in labels with no true samples. Use `zero_division` parameter to control this behavior.\n",
      "  _warn_prf(average, modifier, msg_start, len(result))\n"
     ]
    },
    {
     "name": "stdout",
     "output_type": "stream",
     "text": [
      "              precision    recall  f1-score   support\n",
      "\n",
      "       B-art       0.00      0.00      0.00         4\n",
      "       B-eve       0.00      0.00      0.00         0\n",
      "       B-geo       0.85      0.80      0.82       741\n",
      "       B-gpe       0.77      0.90      0.83       296\n",
      "       B-nat       0.62      0.62      0.62         8\n",
      "       B-org       0.66      0.65      0.66       397\n",
      "       B-per       0.78      0.75      0.77       333\n",
      "       B-tim       0.84      0.83      0.84       393\n",
      "       I-art       0.00      0.00      0.00         0\n",
      "       I-eve       0.00      0.00      0.00         0\n",
      "       I-geo       0.99      0.96      0.97       156\n",
      "       I-gpe       0.50      1.00      0.67         2\n",
      "       I-nat       0.80      1.00      0.89         4\n",
      "       I-org       0.95      0.90      0.93       321\n",
      "       I-per       0.95      0.97      0.96       319\n",
      "       I-tim       0.93      0.83      0.88       108\n",
      "           O       0.99      0.99      0.99     16918\n",
      "\n",
      "    accuracy                           0.97     20000\n",
      "   macro avg       0.63      0.66      0.64     20000\n",
      "weighted avg       0.97      0.97      0.97     20000\n",
      "\n"
     ]
    }
   ],
   "source": [
    "train, test, train_labels, test_labels = train_test([])\n",
    "pipe = make_pipeline(svm.LinearSVC())\n",
    "param_grid = {'linearsvc__C': [100]}\n",
    "grid_svc = GridSearchCV(pipe, param_grid, cv=3).fit(train, train_labels)\n",
    "print(classification_report(test_labels, grid_svc.predict(test)))"
   ]
  },
  {
   "cell_type": "markdown",
   "metadata": {},
   "source": [
    "**[5 points] c. Explain what each feature in the [Annotated Corpus for Named Entity Recognition](https://www.kaggle.com/abhinavwalia95/entity-annotated-corpus) means**\n",
    "You can look at the values of a feature to get insight into what it represents.\n",
    "\n",
    "possible shapes: ['capitalized', 'lowercase', 'punct', 'number', 'other', 'contains-hyphen', 'uppercase', 'abbreviation', 'ending-dot', 'camelcase', 'mixedcase']\n",
    "\n",
    "- 'lemma': lemmatized word\n",
    "- 'next_lemma': the next word lemmatized\n",
    "- 'next-next-lemma':  the next next word lemmatized\n",
    "- 'next-next-pos': POS-tag of next next word\n",
    "- 'next-next-shape': the shape (category) of the next next word\n",
    "- 'next-next-word': the next next word\n",
    "- 'next-pos': the next POS-tag\n",
    "- 'next-shape': the next shape\n",
    "- 'next-word': the next word\n",
    "- 'pos': the POS-tag\n",
    "- 'prev-iob': the previous IOB-tag\n",
    "- 'prev-lemma': the previous lemmatized word\n",
    "- 'prev-pos': the previous POS-tag\n",
    "- 'prev-prev-iob': the previous previous IOB-tag\n",
    "- 'prev-prev-lemma': the previous previous lemmatized word\n",
    "- 'prev-prev-pos': the previous previous POS-tag\n",
    "- 'prev-prev-shape': the previous previous shape \n",
    "- 'prev-prev-word': the previous previous word\n",
    "- 'prev-shape': the previous shape\n",
    "- 'prev-word': the previous word\n",
    "- 'shape': the shape of the current word\n",
    "- 'word': the current word "
   ]
  },
  {
   "cell_type": "markdown",
   "metadata": {},
   "source": [
    "**[4 points] d. Describe:**\n",
    "* two features that you think are very useful for the task and why.\n",
    "* two features that you think are not useful for the task and why.\n",
    "\n",
    "Run 4 experiments. In each experiment, you train and evaluate the classifier by removing one features (one of the four you just described).\n",
    "Provide for each experiment the classification report and discuss whether your expectations were met."
   ]
  },
  {
   "cell_type": "code",
   "execution_count": 155,
   "metadata": {
    "ExecuteTime": {
     "end_time": "2020-02-27T12:32:03.089730Z",
     "start_time": "2020-02-27T12:31:13.335482Z"
    }
   },
   "outputs": [
    {
     "name": "stderr",
     "output_type": "stream",
     "text": [
      "/Users/sebastiaanvergunst/anaconda3/lib/python3.6/site-packages/sklearn/svm/_base.py:947: ConvergenceWarning: Liblinear failed to converge, increase the number of iterations.\n",
      "  \"the number of iterations.\", ConvergenceWarning)\n",
      "/Users/sebastiaanvergunst/anaconda3/lib/python3.6/site-packages/sklearn/metrics/_classification.py:1268: UndefinedMetricWarning: Recall and F-score are ill-defined and being set to 0.0 in labels with no true samples. Use `zero_division` parameter to control this behavior.\n",
      "  _warn_prf(average, modifier, msg_start, len(result))\n"
     ]
    },
    {
     "name": "stdout",
     "output_type": "stream",
     "text": [
      "              precision    recall  f1-score   support\n",
      "\n",
      "       B-art       0.00      0.00      0.00         4\n",
      "       B-eve       0.00      0.00      0.00         0\n",
      "       B-geo       0.86      0.79      0.82       741\n",
      "       B-gpe       0.76      0.89      0.82       296\n",
      "       B-nat       0.56      0.62      0.59         8\n",
      "       B-org       0.67      0.63      0.65       397\n",
      "       B-per       0.78      0.76      0.77       333\n",
      "       B-tim       0.84      0.84      0.84       393\n",
      "       I-art       0.00      0.00      0.00         0\n",
      "       I-eve       0.00      0.00      0.00         0\n",
      "       I-geo       0.97      0.96      0.96       156\n",
      "       I-gpe       0.50      1.00      0.67         2\n",
      "       I-nat       0.50      1.00      0.67         4\n",
      "       I-org       0.95      0.92      0.93       321\n",
      "       I-per       0.95      0.97      0.96       319\n",
      "       I-tim       0.93      0.85      0.89       108\n",
      "           O       0.99      0.99      0.99     16918\n",
      "\n",
      "    accuracy                           0.96     20000\n",
      "   macro avg       0.60      0.66      0.62     20000\n",
      "weighted avg       0.96      0.96      0.96     20000\n",
      "\n"
     ]
    }
   ],
   "source": [
    "#Experiment 1: removing important feature 'pos'\n",
    "train, test, train_labels, test_labels = train_test(['pos'])\n",
    "pipe = make_pipeline(svm.LinearSVC())\n",
    "param_grid = {'linearsvc__C': [100]}\n",
    "grid_svc = GridSearchCV(pipe, param_grid, cv=3).fit(train, train_labels)\n",
    "print(classification_report(test_labels, grid_svc.predict(test)))"
   ]
  },
  {
   "cell_type": "code",
   "execution_count": 156,
   "metadata": {
    "ExecuteTime": {
     "end_time": "2020-02-27T12:32:55.427846Z",
     "start_time": "2020-02-27T12:32:03.092728Z"
    }
   },
   "outputs": [
    {
     "name": "stderr",
     "output_type": "stream",
     "text": [
      "/Users/sebastiaanvergunst/anaconda3/lib/python3.6/site-packages/sklearn/svm/_base.py:947: ConvergenceWarning: Liblinear failed to converge, increase the number of iterations.\n",
      "  \"the number of iterations.\", ConvergenceWarning)\n",
      "/Users/sebastiaanvergunst/anaconda3/lib/python3.6/site-packages/sklearn/metrics/_classification.py:1268: UndefinedMetricWarning: Recall and F-score are ill-defined and being set to 0.0 in labels with no true samples. Use `zero_division` parameter to control this behavior.\n",
      "  _warn_prf(average, modifier, msg_start, len(result))\n"
     ]
    },
    {
     "name": "stdout",
     "output_type": "stream",
     "text": [
      "              precision    recall  f1-score   support\n",
      "\n",
      "       B-art       0.00      0.00      0.00         4\n",
      "       B-eve       0.00      0.00      0.00         0\n",
      "       B-geo       0.81      0.80      0.81       741\n",
      "       B-gpe       0.75      0.88      0.81       296\n",
      "       B-nat       0.44      0.50      0.47         8\n",
      "       B-org       0.65      0.61      0.63       397\n",
      "       B-per       0.73      0.69      0.71       333\n",
      "       B-tim       0.85      0.80      0.82       393\n",
      "       I-art       0.00      0.00      0.00         0\n",
      "       I-eve       0.00      0.00      0.00         0\n",
      "       I-geo       0.82      0.70      0.75       156\n",
      "       I-gpe       0.40      1.00      0.57         2\n",
      "       I-nat       0.22      1.00      0.36         4\n",
      "       I-org       0.76      0.68      0.72       321\n",
      "       I-per       0.81      0.82      0.81       319\n",
      "       I-tim       0.76      0.67      0.71       108\n",
      "           O       0.99      0.99      0.99     16918\n",
      "\n",
      "    accuracy                           0.95     20000\n",
      "   macro avg       0.53      0.60      0.54     20000\n",
      "weighted avg       0.95      0.95      0.95     20000\n",
      "\n"
     ]
    }
   ],
   "source": [
    "#Experiment 2: removing important feature 'prev-iob'\n",
    "train, test, train_labels, test_labels = train_test(['prev-iob'])\n",
    "pipe = make_pipeline(svm.LinearSVC())\n",
    "param_grid = {'linearsvc__C': [100]}\n",
    "grid_svc = GridSearchCV(pipe, param_grid, cv=3).fit(train, train_labels)\n",
    "print(classification_report(test_labels, grid_svc.predict(test)))"
   ]
  },
  {
   "cell_type": "code",
   "execution_count": 157,
   "metadata": {
    "ExecuteTime": {
     "end_time": "2020-02-27T12:33:47.631974Z",
     "start_time": "2020-02-27T12:32:55.431228Z"
    }
   },
   "outputs": [
    {
     "name": "stderr",
     "output_type": "stream",
     "text": [
      "/Users/sebastiaanvergunst/anaconda3/lib/python3.6/site-packages/sklearn/svm/_base.py:947: ConvergenceWarning: Liblinear failed to converge, increase the number of iterations.\n",
      "  \"the number of iterations.\", ConvergenceWarning)\n",
      "/Users/sebastiaanvergunst/anaconda3/lib/python3.6/site-packages/sklearn/metrics/_classification.py:1268: UndefinedMetricWarning: Recall and F-score are ill-defined and being set to 0.0 in labels with no true samples. Use `zero_division` parameter to control this behavior.\n",
      "  _warn_prf(average, modifier, msg_start, len(result))\n"
     ]
    },
    {
     "name": "stdout",
     "output_type": "stream",
     "text": [
      "              precision    recall  f1-score   support\n",
      "\n",
      "       B-art       0.00      0.00      0.00         4\n",
      "       B-eve       0.00      0.00      0.00         0\n",
      "       B-geo       0.85      0.75      0.80       741\n",
      "       B-gpe       0.90      0.92      0.91       296\n",
      "       B-nat       0.62      0.62      0.62         8\n",
      "       B-org       0.57      0.66      0.61       397\n",
      "       B-per       0.74      0.70      0.72       333\n",
      "       B-tim       0.86      0.79      0.82       393\n",
      "       I-art       0.00      0.00      0.00         0\n",
      "       I-eve       0.00      0.00      0.00         0\n",
      "       I-geo       0.97      0.96      0.96       156\n",
      "       I-gpe       1.00      1.00      1.00         2\n",
      "       I-nat       0.36      1.00      0.53         4\n",
      "       I-org       0.93      0.90      0.91       321\n",
      "       I-per       0.94      0.96      0.95       319\n",
      "       I-tim       0.86      0.83      0.85       108\n",
      "           O       0.99      0.99      0.99     16918\n",
      "\n",
      "    accuracy                           0.96     20000\n",
      "   macro avg       0.62      0.65      0.63     20000\n",
      "weighted avg       0.96      0.96      0.96     20000\n",
      "\n"
     ]
    }
   ],
   "source": [
    "#Experiment 3: removing all next\n",
    "train, test, train_labels, test_labels = train_test(['next-lemma', 'next-next-lemma', 'next-next-pos',\n",
    "       'next-next-shape', 'next-next-word', 'next-pos', 'next-shape',\n",
    "       'next-word'])\n",
    "pipe = make_pipeline(svm.LinearSVC())\n",
    "param_grid = {'linearsvc__C': [100]}\n",
    "grid_svc = GridSearchCV(pipe, param_grid, cv=3).fit(train, train_labels)\n",
    "print(classification_report(test_labels, grid_svc.predict(test)))"
   ]
  },
  {
   "cell_type": "code",
   "execution_count": 158,
   "metadata": {
    "ExecuteTime": {
     "end_time": "2020-02-27T12:34:59.845911Z",
     "start_time": "2020-02-27T12:33:47.634614Z"
    }
   },
   "outputs": [
    {
     "name": "stderr",
     "output_type": "stream",
     "text": [
      "/Users/sebastiaanvergunst/anaconda3/lib/python3.6/site-packages/sklearn/svm/_base.py:947: ConvergenceWarning: Liblinear failed to converge, increase the number of iterations.\n",
      "  \"the number of iterations.\", ConvergenceWarning)\n",
      "/Users/sebastiaanvergunst/anaconda3/lib/python3.6/site-packages/sklearn/metrics/_classification.py:1268: UndefinedMetricWarning: Recall and F-score are ill-defined and being set to 0.0 in labels with no true samples. Use `zero_division` parameter to control this behavior.\n",
      "  _warn_prf(average, modifier, msg_start, len(result))\n"
     ]
    },
    {
     "name": "stdout",
     "output_type": "stream",
     "text": [
      "              precision    recall  f1-score   support\n",
      "\n",
      "       B-art       0.10      0.25      0.14         4\n",
      "       B-eve       0.00      0.00      0.00         0\n",
      "       B-geo       0.74      0.71      0.73       741\n",
      "       B-gpe       0.73      0.89      0.80       296\n",
      "       B-nat       0.57      0.50      0.53         8\n",
      "       B-org       0.60      0.54      0.57       397\n",
      "       B-per       0.71      0.59      0.65       333\n",
      "       B-tim       0.81      0.80      0.81       393\n",
      "       I-art       0.00      0.00      0.00         0\n",
      "       I-eve       0.00      0.00      0.00         0\n",
      "       I-geo       0.63      0.49      0.55       156\n",
      "       I-gpe       0.22      1.00      0.36         2\n",
      "       I-nat       0.36      1.00      0.53         4\n",
      "       I-org       0.48      0.47      0.47       321\n",
      "       I-per       0.55      0.63      0.59       319\n",
      "       I-tim       0.42      0.37      0.39       108\n",
      "           O       0.99      0.99      0.99     16918\n",
      "\n",
      "    accuracy                           0.94     20000\n",
      "   macro avg       0.47      0.54      0.48     20000\n",
      "weighted avg       0.94      0.94      0.94     20000\n",
      "\n"
     ]
    }
   ],
   "source": [
    "#Experiment 4: removing all previous\n",
    "train, test, train_labels, test_labels = train_test(['prev-iob', 'prev-lemma', 'prev-pos', 'prev-prev-iob',\n",
    "       'prev-prev-lemma', 'prev-prev-pos', 'prev-prev-shape', 'prev-prev-word',\n",
    "       'prev-shape', 'prev-word'])\n",
    "pipe = make_pipeline(svm.LinearSVC())\n",
    "param_grid = {'linearsvc__C': [100]}\n",
    "grid_svc = GridSearchCV(pipe, param_grid, cv=3).fit(train, train_labels)\n",
    "print(classification_report(test_labels, grid_svc.predict(test)))"
   ]
  },
  {
   "cell_type": "code",
   "execution_count": 159,
   "metadata": {
    "ExecuteTime": {
     "end_time": "2020-02-27T12:37:09.161117Z",
     "start_time": "2020-02-27T12:34:59.848253Z"
    }
   },
   "outputs": [
    {
     "name": "stderr",
     "output_type": "stream",
     "text": [
      "/Users/sebastiaanvergunst/anaconda3/lib/python3.6/site-packages/sklearn/svm/_base.py:947: ConvergenceWarning: Liblinear failed to converge, increase the number of iterations.\n",
      "  \"the number of iterations.\", ConvergenceWarning)\n",
      "/Users/sebastiaanvergunst/anaconda3/lib/python3.6/site-packages/sklearn/metrics/_classification.py:1268: UndefinedMetricWarning: Recall and F-score are ill-defined and being set to 0.0 in labels with no true samples. Use `zero_division` parameter to control this behavior.\n",
      "  _warn_prf(average, modifier, msg_start, len(result))\n"
     ]
    },
    {
     "name": "stdout",
     "output_type": "stream",
     "text": [
      "              precision    recall  f1-score   support\n",
      "\n",
      "       B-art       0.00      0.00      0.00         4\n",
      "       B-eve       0.00      0.00      0.00         0\n",
      "       B-geo       0.46      0.53      0.49       741\n",
      "       B-gpe       0.23      0.36      0.28       296\n",
      "       B-nat       0.50      0.50      0.50         8\n",
      "       B-org       0.30      0.29      0.30       397\n",
      "       B-per       0.55      0.54      0.54       333\n",
      "       B-tim       0.37      0.32      0.34       393\n",
      "       I-art       0.00      0.00      0.00         0\n",
      "       I-eve       0.00      0.00      0.00         0\n",
      "       I-geo       0.78      0.87      0.82       156\n",
      "       I-gpe       0.67      1.00      0.80         2\n",
      "       I-nat       0.40      1.00      0.57         4\n",
      "       I-org       0.80      0.83      0.82       321\n",
      "       I-per       0.84      0.94      0.89       319\n",
      "       I-tim       0.70      0.64      0.67       108\n",
      "           O       0.94      0.92      0.93     16918\n",
      "\n",
      "    accuracy                           0.87     20000\n",
      "   macro avg       0.44      0.51      0.47     20000\n",
      "weighted avg       0.88      0.87      0.87     20000\n",
      "\n"
     ]
    }
   ],
   "source": [
    "#Experiment 5: removing everything about the word itself\n",
    "train, test, train_labels, test_labels = train_test(['lemma','shape', 'word', 'tag', 'pos'])\n",
    "pipe = make_pipeline(svm.LinearSVC())\n",
    "param_grid = {'linearsvc__C': [100]}\n",
    "grid_svc = GridSearchCV(pipe, param_grid, cv=3).fit(train, train_labels)\n",
    "print(classification_report(test_labels, grid_svc.predict(test)))"
   ]
  },
  {
   "cell_type": "code",
   "execution_count": 160,
   "metadata": {
    "ExecuteTime": {
     "end_time": "2020-02-27T12:37:53.664397Z",
     "start_time": "2020-02-27T12:37:09.163472Z"
    }
   },
   "outputs": [
    {
     "name": "stderr",
     "output_type": "stream",
     "text": [
      "/Users/sebastiaanvergunst/anaconda3/lib/python3.6/site-packages/sklearn/svm/_base.py:947: ConvergenceWarning: Liblinear failed to converge, increase the number of iterations.\n",
      "  \"the number of iterations.\", ConvergenceWarning)\n",
      "/Users/sebastiaanvergunst/anaconda3/lib/python3.6/site-packages/sklearn/metrics/_classification.py:1268: UndefinedMetricWarning: Recall and F-score are ill-defined and being set to 0.0 in labels with no true samples. Use `zero_division` parameter to control this behavior.\n",
      "  _warn_prf(average, modifier, msg_start, len(result))\n"
     ]
    },
    {
     "name": "stdout",
     "output_type": "stream",
     "text": [
      "              precision    recall  f1-score   support\n",
      "\n",
      "       B-art       0.00      0.00      0.00         4\n",
      "       B-eve       0.00      0.00      0.00         0\n",
      "       B-geo       0.86      0.79      0.82       741\n",
      "       B-gpe       0.76      0.90      0.82       296\n",
      "       B-nat       0.71      0.62      0.67         8\n",
      "       B-org       0.66      0.68      0.67       397\n",
      "       B-per       0.77      0.74      0.75       333\n",
      "       B-tim       0.85      0.82      0.84       393\n",
      "       I-art       0.00      0.00      0.00         0\n",
      "       I-eve       0.00      0.00      0.00         0\n",
      "       I-geo       0.99      0.95      0.97       156\n",
      "       I-gpe       0.50      1.00      0.67         2\n",
      "       I-nat       0.57      1.00      0.73         4\n",
      "       I-org       0.95      0.90      0.93       321\n",
      "       I-per       0.95      0.97      0.96       319\n",
      "       I-tim       0.92      0.84      0.88       108\n",
      "           O       0.99      0.99      0.99     16918\n",
      "\n",
      "    accuracy                           0.97     20000\n",
      "   macro avg       0.62      0.66      0.63     20000\n",
      "weighted avg       0.97      0.97      0.97     20000\n",
      "\n"
     ]
    }
   ],
   "source": [
    "#Experiment 6: removing unimportant feature 'next-next-shape'\n",
    "train, test, train_labels, test_labels = train_test(['next-next-shape'])\n",
    "pipe = make_pipeline(svm.LinearSVC())\n",
    "param_grid = {'linearsvc__C': [100]}\n",
    "grid_svc = GridSearchCV(pipe, param_grid, cv=3).fit(train, train_labels)\n",
    "print(classification_report(test_labels, grid_svc.predict(test)))"
   ]
  },
  {
   "cell_type": "code",
   "execution_count": 161,
   "metadata": {
    "ExecuteTime": {
     "end_time": "2020-02-27T12:38:41.085520Z",
     "start_time": "2020-02-27T12:37:53.666689Z"
    }
   },
   "outputs": [
    {
     "name": "stderr",
     "output_type": "stream",
     "text": [
      "/Users/sebastiaanvergunst/anaconda3/lib/python3.6/site-packages/sklearn/svm/_base.py:947: ConvergenceWarning: Liblinear failed to converge, increase the number of iterations.\n",
      "  \"the number of iterations.\", ConvergenceWarning)\n",
      "/Users/sebastiaanvergunst/anaconda3/lib/python3.6/site-packages/sklearn/metrics/_classification.py:1268: UndefinedMetricWarning: Recall and F-score are ill-defined and being set to 0.0 in labels with no true samples. Use `zero_division` parameter to control this behavior.\n",
      "  _warn_prf(average, modifier, msg_start, len(result))\n"
     ]
    },
    {
     "name": "stdout",
     "output_type": "stream",
     "text": [
      "              precision    recall  f1-score   support\n",
      "\n",
      "       B-art       0.00      0.00      0.00         4\n",
      "       B-eve       0.00      0.00      0.00         0\n",
      "       B-geo       0.85      0.77      0.81       741\n",
      "       B-gpe       0.76      0.88      0.81       296\n",
      "       B-nat       0.42      0.62      0.50         8\n",
      "       B-org       0.64      0.67      0.66       397\n",
      "       B-per       0.79      0.75      0.77       333\n",
      "       B-tim       0.85      0.84      0.85       393\n",
      "       I-art       0.00      0.00      0.00         0\n",
      "       I-eve       0.00      0.00      0.00         0\n",
      "       I-geo       0.99      0.96      0.97       156\n",
      "       I-gpe       0.40      1.00      0.57         2\n",
      "       I-nat       1.00      1.00      1.00         4\n",
      "       I-org       0.95      0.91      0.93       321\n",
      "       I-per       0.95      0.97      0.96       319\n",
      "       I-tim       0.93      0.84      0.88       108\n",
      "           O       0.99      0.99      0.99     16918\n",
      "\n",
      "    accuracy                           0.96     20000\n",
      "   macro avg       0.62      0.66      0.63     20000\n",
      "weighted avg       0.97      0.96      0.96     20000\n",
      "\n"
     ]
    }
   ],
   "source": [
    "#Experiment 7: removing unimportant feature 'next-next-word'\n",
    "train, test, train_labels, test_labels = train_test(['next-next-word'])\n",
    "pipe = make_pipeline(svm.LinearSVC())\n",
    "param_grid = {'linearsvc__C': [100]}\n",
    "grid_svc = GridSearchCV(pipe, param_grid, cv=3).fit(train, train_labels)\n",
    "print(classification_report(test_labels, grid_svc.predict(test)))"
   ]
  },
  {
   "cell_type": "markdown",
   "metadata": {},
   "source": [
    "**[4 points] e. Describe four features that you think would improve system performance for the NERC task. You do not have to implement them.**"
   ]
  },
  {
   "cell_type": "markdown",
   "metadata": {},
   "source": [
    "**answer:** - "
   ]
  },
  {
   "cell_type": "markdown",
   "metadata": {},
   "source": [
    "## End of this notebook"
   ]
  }
 ],
 "metadata": {
  "kernelspec": {
   "display_name": "Python 3",
   "language": "python",
   "name": "python3"
  },
  "language_info": {
   "codemirror_mode": {
    "name": "ipython",
    "version": 3
   },
   "file_extension": ".py",
   "mimetype": "text/x-python",
   "name": "python",
   "nbconvert_exporter": "python",
   "pygments_lexer": "ipython3",
   "version": "3.7.6"
  },
  "toc": {
   "base_numbering": 1,
   "nav_menu": {},
   "number_sections": true,
   "sideBar": true,
   "skip_h1_title": false,
   "title_cell": "Table of Contents",
   "title_sidebar": "Contents",
   "toc_cell": false,
   "toc_position": {},
   "toc_section_display": true,
   "toc_window_display": false
  }
 },
 "nbformat": 4,
 "nbformat_minor": 4
}
